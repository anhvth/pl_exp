{
 "cells": [
  {
   "cell_type": "code",
   "execution_count": null,
   "id": "25d2c017-7c7a-48b0-ac7f-8c19c7074e0f",
   "metadata": {},
   "outputs": [],
   "source": [
    "# |default_exp lit_model"
   ]
  },
  {
   "cell_type": "markdown",
   "id": "d34991d1-2a84-4202-a436-f840e06e2166",
   "metadata": {},
   "source": [
    "# LitModel\n",
    "> Lit model API"
   ]
  },
  {
   "cell_type": "code",
   "execution_count": null,
   "id": "b69641cf-7889-43c6-89e7-1cde9d864950",
   "metadata": {},
   "outputs": [],
   "source": [
    "%load_ext autoreload\n",
    "%autoreload 2\n"
   ]
  },
  {
   "cell_type": "markdown",
   "id": "6d37a026-d840-4e4e-a449-ee5e38698326",
   "metadata": {},
   "source": [
    "## Imports"
   ]
  },
  {
   "cell_type": "code",
   "execution_count": null,
   "id": "525de612-6478-4a7a-b7e0-59c949076681",
   "metadata": {},
   "outputs": [],
   "source": [
    "# | export\n",
    "from loguru import logger\n",
    "from pytorch_lightning.core.lightning import LightningModule\n",
    "import torch\n",
    "import torch.nn as nn\n",
    "from datetime import datetime, timedelta\n",
    "from pytorch_lightning.callbacks.progress import TQDMProgressBar\n",
    "from pytorch_lightning.loggers import TensorBoardLogger\n",
    "import os\n",
    "from fastcore.all import *\n",
    "from pytorch_lightning import Trainer\n",
    "from pytorch_lightning.callbacks import LearningRateMonitor, ModelCheckpoint\n",
    "try:\n",
    "    from ple.loss import FocalLoss, BinaryFocalLoss\n",
    "except Exception as e:\n",
    "    FocalLoss, BinaryFocalLoss = None, None\n",
    "    logger.warning('Exception: {}\\nInstall mmcv-full if you wish to use FocalLoss', e)\n",
    "import os.path as osp\n",
    "from torch.optim.lr_scheduler import LambdaLR\n"
   ]
  },
  {
   "cell_type": "markdown",
   "id": "90006936-9100-40da-978e-49f205108e3b",
   "metadata": {},
   "source": [
    "## Schedulers"
   ]
  },
  {
   "cell_type": "code",
   "execution_count": null,
   "id": "2c9add50-1b56-42f9-8feb-4a4a56d53e37",
   "metadata": {},
   "outputs": [],
   "source": [
    "#|export\n",
    "from timm.scheduler.cosine_lr import CosineLRScheduler, Scheduler\n",
    "\n",
    "\n",
    "def plot_lr_step_schedule(fn, lr, num_epochs, num_steps_per_epoch):\n",
    "    import matplotlib.pyplot as plt\n",
    "    lrs = []\n",
    "    steps = num_epochs*num_steps_per_epoch\n",
    "    for step in range(steps):\n",
    "        lrs.append(fn(step)*lr)\n",
    "    # print(f'{min(lrs)=:0.5f}, {max(lrs)=:0.5f}')\n",
    "    plt.plot(range(steps), lrs)\n",
    "    plt.show()\n",
    "\n",
    "\n",
    "def fn_schedule_linear_with_warmup(num_epochs, num_steps_per_epoch,\n",
    "                                   num_warmup_steps=0, init_lr=0.4, min_lr=0.1):\n",
    "    num_training_steps = num_epochs*num_steps_per_epoch\n",
    "\n",
    "    def lr_lambda(current_step: int):\n",
    "        if current_step < num_warmup_steps:\n",
    "            x = (1-init_lr)*(current_step / num_warmup_steps)+init_lr\n",
    "            return x\n",
    "\n",
    "        total_step = (num_training_steps-num_warmup_steps)\n",
    "        current_step = current_step-num_warmup_steps\n",
    "        rt = min_lr+(1-min_lr)*(1-current_step/total_step)\n",
    "        return rt\n",
    "    return lr_lambda\n",
    "\n",
    "\n",
    "def fn_schedule_cosine_with_warmpup_decay_timm(num_epochs, num_steps_per_epoch, num_epochs_per_cycle,\n",
    "                                               num_warmup_epochs=1, init_lr=0.4, min_lr=0.1, cycle_decay=.8, interval='step'):\n",
    "    lr = 1\n",
    "    num_cycles = num_epochs // num_epochs_per_cycle\n",
    "    optim = torch.optim.SGD(nn.Linear(1, 1).parameters(), lr)\n",
    "    m = 1 if interval == 'epoch' else num_steps_per_epoch\n",
    "    logger.info(f'num_cycles={num_cycles}')\n",
    "    schedule = CosineLRScheduler(optim,\n",
    "                                 t_initial=num_epochs_per_cycle*m,\n",
    "                                 lr_min=min_lr*lr,\n",
    "                                 cycle_decay=cycle_decay,\n",
    "                                 cycle_limit=num_cycles, warmup_t=num_warmup_epochs*m, warmup_lr_init=init_lr*lr,\n",
    "                                 )\n",
    "\n",
    "    def get_lr(step): return schedule._get_lr(step)[0]\n",
    "    return get_lr\n",
    "\n",
    "\n",
    "def get_scheduler(optimizer, lr_schedule_fn, interval='step', verbose=False):\n",
    "    scheduler = {\n",
    "        \"scheduler\": LambdaLR(optimizer, lr_schedule_fn, -1, verbose=verbose),\n",
    "        \"interval\": interval,\n",
    "        \"frequency\": 1,\n",
    "    }\n",
    "    return scheduler\n"
   ]
  },
  {
   "cell_type": "code",
   "execution_count": null,
   "id": "c8e6bcbf-65da-4259-85e4-a5d0278b79e6",
   "metadata": {},
   "outputs": [
    {
     "name": "stderr",
     "output_type": "stream",
     "text": [
      "2022-09-06 10:21:53.970 | INFO     | __main__:fn_schedule_cosine_with_warmpup_decay_timm:38 - num_cycles=3\n"
     ]
    },
    {
     "name": "stdout",
     "output_type": "stream",
     "text": [
      "min(lrs)=0.00100, max(lrs)=0.09880\n"
     ]
    },
    {
     "data": {
      "image/png": "[encoded data removed]",
      "text/plain": [
       "<Figure size 432x288 with 1 Axes>"
      ]
     },
     "metadata": {
      "needs_background": "light"
     },
     "output_type": "display_data"
    },
    {
     "name": "stdout",
     "output_type": "stream",
     "text": [
      "min(lrs)=0.01010, max(lrs)=0.10000\n"
     ]
    },
    {
     "data": {
      "image/png": "[encoded data removed]",
      "text/plain": [
       "<Figure size 432x288 with 1 Axes>"
      ]
     },
     "metadata": {
      "needs_background": "light"
     },
     "output_type": "display_data"
    }
   ],
   "source": [
    "\n",
    "fn = fn_schedule_cosine_with_warmpup_decay_timm(100,\n",
    "                                                num_steps_per_epoch=10, num_epochs_per_cycle=30,num_warmup_epochs=5, cycle_decay=0.6, min_lr=0.01)\n",
    "plot_lr_step_schedule(fn, 0.1, 100, 10)\n",
    "fn = fn_schedule_linear_with_warmup(10, 100, 100)\n",
    "plot_lr_step_schedule(fn, 0.1, 100, 10)"
   ]
  },
  {
   "cell_type": "markdown",
   "id": "1d537fcc-1d23-4994-957a-57413080067d",
   "metadata": {},
   "source": [
    "## LitModel"
   ]
  },
  {
   "cell_type": "code",
   "execution_count": null,
   "id": "cf2cdb5f-da74-4702-a4ee-802c67d8bd95",
   "metadata": {},
   "outputs": [],
   "source": [
    "#|export\n",
    "class LitModel(LightningModule):\n",
    "    \"\"\"\n",
    "        sched = fn_schedule_cosine_with_warmpup_decay_timm(\n",
    "            num_epochs=EPOCHS,\n",
    "            num_steps_per_epoch=len(dl_train),\n",
    "            num_epochs_per_cycle=EPOCHS//2,\n",
    "            min_lr=1/100,\n",
    "            cycle_decay=0.7,\n",
    "        )\n",
    "        # plot_lr_step_schedule(sche, lr, num_epochs, step_per_epoch)\n",
    "        optim = lambda params:torch.optim.Adam(params)\n",
    "\n",
    "\n",
    "        model = Model()\n",
    "        lit_lstm = LitLSTM(model,create_optimizer_fn=optim,\n",
    "                                       create_lr_scheduler_fn=sched, loss_fn=nn.L1Loss()            \n",
    "    \"\"\"\n",
    "    def __init__(self, model,\n",
    "                 create_optimizer_fn=None,\n",
    "                 create_lr_scheduler_fn=None,\n",
    "                 loss_fn=nn.CrossEntropyLoss()\n",
    "                ):\n",
    "\n",
    "        super().__init__()\n",
    "        store_attr()\n",
    "\n",
    "    def configure_optimizers(self):\n",
    "        \"\"\"\n",
    "            Setup optimizer and scheduler\n",
    "        \"\"\"\n",
    "        assert self.create_optimizer_fn is not None\n",
    "\n",
    "        optimizer = self.create_optimizer_fn(self.model.parameters())\n",
    "        scheduler = get_scheduler(optimizer, self.create_lr_scheduler_fn)\n",
    "        return [optimizer], [scheduler]\n",
    "\n",
    "    def forward(self, x):\n",
    "        return self.model(x)\n",
    "\n",
    "    def validation_step(self, batch, batch_idx):\n",
    "        x, y = batch[:2]\n",
    "        logits = self(x)\n",
    "        loss = self.loss_fn(logits, y)\n",
    "        preds = logits.softmax(1).argmax(1)\n",
    "        accs = (y == preds).float().mean()\n",
    "        self.log(\"val_loss\", loss, rank_zero_only=True, prog_bar=True,\n",
    "                 on_step=False, on_epoch=True)\n",
    "        self.log(\"val_acc\", accs, rank_zero_only=True, prog_bar=True,\n",
    "                 on_step=False, on_epoch=True)\n",
    "        return loss\n",
    "\n",
    "    def training_step(self, batch, batch_idx):\n",
    "        x, y = batch[:2]\n",
    "        logits = self(x)\n",
    "        loss = self.loss_fn(logits, y)\n",
    "\n",
    "        preds = logits.softmax(1).argmax(1)\n",
    "        accs = (y == preds).float().mean()\n",
    "\n",
    "        self.log(\"training_loss\", loss, prog_bar=True,\n",
    "                 rank_zero_only=True, on_epoch=True)\n",
    "        self.log(\"training_accuracy\", accs, prog_bar=True,\n",
    "                 rank_zero_only=True, on_epoch=True)\n",
    "        return loss\n"
   ]
  },
  {
   "cell_type": "markdown",
   "id": "b9489e66-d370-49d1-9ac7-afa6767a145c",
   "metadata": {},
   "source": [
    "# Export"
   ]
  },
  {
   "cell_type": "code",
   "execution_count": null,
   "id": "ae5ac7ed-a0be-41e4-8905-1bbcfc0f31bd",
   "metadata": {},
   "outputs": [],
   "source": [
    "from nbdev import nbdev_export\n",
    "nbdev_export()"
   ]
  },
  {
   "cell_type": "code",
   "execution_count": null,
   "id": "35afd161-3287-433a-8ff9-2c6833bd1059",
   "metadata": {},
   "outputs": [],
   "source": []
  },
  {
   "cell_type": "code",
   "execution_count": null,
   "id": "f0b441f3",
   "metadata": {},
   "outputs": [],
   "source": []
  },
  {
   "cell_type": "code",
   "execution_count": null,
   "id": "6f9a9bc6-ed25-4421-912b-0aad04466241",
   "metadata": {},
   "outputs": [],
   "source": []
  },
  {
   "cell_type": "code",
   "execution_count": null,
   "id": "164db8ae-ea6c-49d9-b400-d1b1d7ee975e",
   "metadata": {},
   "outputs": [],
   "source": []
  }
 ],
 "metadata": {
  "kernelspec": {
   "display_name": "Python 3 (ipykernel)",
   "language": "python",
   "name": "python3"
  }
 },
 "nbformat": 4,
 "nbformat_minor": 5
}
