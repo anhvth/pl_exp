{
 "cells": [
  {
   "cell_type": "code",
   "execution_count": null,
   "id": "25d2c017-7c7a-48b0-ac7f-8c19c7074e0f",
   "metadata": {},
   "outputs": [],
   "source": [
    "#|default_exp lit_model"
   ]
  },
  {
   "cell_type": "markdown",
   "id": "d34991d1-2a84-4202-a436-f840e06e2166",
   "metadata": {},
   "source": [
    "# LitModel\n",
    "> Lit model API"
   ]
  },
  {
   "cell_type": "code",
   "execution_count": null,
   "id": "b69641cf-7889-43c6-89e7-1cde9d864950",
   "metadata": {},
   "outputs": [],
   "source": [
    "%load_ext autoreload\n",
    "%autoreload 2"
   ]
  },
  {
   "cell_type": "markdown",
   "id": "6d37a026-d840-4e4e-a449-ee5e38698326",
   "metadata": {},
   "source": [
    "## Imports"
   ]
  },
  {
   "cell_type": "code",
   "execution_count": 3,
   "id": "525de612-6478-4a7a-b7e0-59c949076681",
   "metadata": {},
   "outputs": [
    {
     "name": "stderr",
     "output_type": "stream",
     "text": [
      "/home/anhvth/miniconda3/lib/python3.9/site-packages/tqdm/auto.py:22: TqdmWarning: IProgress not found. Please update jupyter and ipywidgets. See https://ipywidgets.readthedocs.io/en/stable/user_install.html\n",
      "  from .autonotebook import tqdm as notebook_tqdm\n"
     ]
    }
   ],
   "source": [
    "#| export\n",
    "from loguru import logger\n",
    "from pytorch_lightning.core.lightning import LightningModule\n",
    "import torch\n",
    "import torch.nn as nn\n",
    "from datetime import datetime, timedelta\n",
    "from pytorch_lightning.callbacks.progress import TQDMProgressBar\n",
    "from pytorch_lightning.loggers import TensorBoardLogger\n",
    "import os\n",
    "from fastcore.all import *\n",
    "from pytorch_lightning import Trainer\n",
    "from pytorch_lightning.callbacks import LearningRateMonitor, ModelCheckpoint\n",
    "try:\n",
    "    from lit_classifier.loss import FocalLoss, BinaryFocalLoss\n",
    "except:\n",
    "    FocalLoss, BinaryFocalLoss = None, None\n",
    "    logger.warning('Install mmcv-full if you wish to use FocalLoss')\n",
    "import os.path as osp\n",
    "from torch.optim.lr_scheduler import LambdaLR"
   ]
  },
  {
   "cell_type": "code",
   "execution_count": null,
   "id": "247e3565-c6d0-462d-9517-ffff75a6fcdf",
   "metadata": {},
   "outputs": [],
   "source": []
  },
  {
   "cell_type": "markdown",
   "id": "90006936-9100-40da-978e-49f205108e3b",
   "metadata": {
    "tags": []
   },
   "source": [
    "## Schedulers"
   ]
  },
  {
   "cell_type": "code",
   "execution_count": 4,
   "id": "2c9add50-1b56-42f9-8feb-4a4a56d53e37",
   "metadata": {},
   "outputs": [],
   "source": [
    "#| export\n",
    "from timm.scheduler.cosine_lr import CosineLRScheduler, Scheduler\n",
    "\n",
    "# def get_optim_cfg(type='linear', \n",
    "#                   epochs, num_steps_per_epoch, \n",
    "#                   lr=1e-3, init_lr=0.5, min_lr=0.2, \n",
    "#                   interval='step', optim='Adam', num_cycle=3, \n",
    "#                   cycle_decay=0.8, **kwargs):\n",
    "    \n",
    "#     steps = epochs*num_steps_per_epoch\n",
    "#     num_epochs_per_cycle = int(epochs/num_cycle)\n",
    "    \n",
    "#     return dict(init_lr=init_lr, \n",
    "#                 min_lr=min_lr,\n",
    "#                 steps=steps,\n",
    "#                 epochs=epochs,\n",
    "#                 interval=interval,\n",
    "#                 optim=optim, \n",
    "#                 num_epochs_per_cycle=num_epochs_per_cycle,\n",
    "#                 num_steps_per_epoch=num_steps_per_epoch, **kwargs)\n",
    "def plot_lr_step_schedule(fn, lr, num_epochs, num_steps_per_epoch):\n",
    "    import matplotlib.pyplot as plt\n",
    "    lrs = []\n",
    "    steps = num_epochs*num_steps_per_epoch\n",
    "    for step in range(steps):\n",
    "        lrs.append(fn(step)*lr)\n",
    "    print(f'{min(lrs)=:0.5f}, {max(lrs)=:0.5f}')\n",
    "    plt.plot(range(steps),lrs)\n",
    "    plt.show()\n",
    "\n",
    "def fn_schedule_linear_with_warmup(num_epochs, num_steps_per_epoch, \n",
    "                                   num_warmup_steps=0, init_lr=0.4, min_lr=0.1):\n",
    "    num_training_steps = num_epochs*num_steps_per_epoch\n",
    "    def lr_lambda(current_step: int):\n",
    "        if current_step < num_warmup_steps:\n",
    "            x = (1-init_lr)*(current_step / num_warmup_steps)+init_lr\n",
    "            return x\n",
    "\n",
    "        total_step = (num_training_steps-num_warmup_steps)\n",
    "        current_step = current_step-num_warmup_steps\n",
    "        rt = min_lr+(1-min_lr)*(1-current_step/total_step)\n",
    "        return rt\n",
    "    return lr_lambda\n",
    "\n",
    "\n",
    "def fn_schedule_cosine_with_warmpup_decay_timm(num_epochs, num_steps_per_epoch, num_epochs_per_cycle, \n",
    "                                   num_warmup_epochs=1, init_lr=0.4, min_lr=0.1, cycle_decay=.8, interval='step'):\n",
    "    lr = 1\n",
    "    num_cycles = num_epochs // num_epochs_per_cycle\n",
    "    optim = torch.optim.SGD(nn.Linear(1,1).parameters(), lr)\n",
    "    m = 1 if interval == 'epoch' else num_steps_per_epoch\n",
    "    logger.info(f'{num_cycles=}')\n",
    "    schedule = CosineLRScheduler(optim, \n",
    "                                 t_initial=num_epochs_per_cycle*m,\n",
    "                                 lr_min=min_lr*lr, \n",
    "                                 cycle_decay=cycle_decay,\n",
    "                                 cycle_limit=num_cycles,warmup_t=num_warmup_epochs*m,warmup_lr_init=init_lr*lr,\n",
    "                                )\n",
    "    get_lr = lambda step: schedule._get_lr(step)[0]\n",
    "    return get_lr\n",
    "    \n",
    "\n",
    "def get_scheduler(optimizer, lr_schedule_fn, interval='step', verbose=False):\n",
    "    scheduler = {\n",
    "        \"scheduler\": LambdaLR(optimizer, lr_schedule_fn, -1, verbose=verbose),\n",
    "        \"interval\": interval, \n",
    "        \"frequency\": 1,\n",
    "    }\n",
    "    return scheduler"
   ]
  },
  {
   "cell_type": "code",
   "execution_count": 5,
   "id": "c8e6bcbf-65da-4259-85e4-a5d0278b79e6",
   "metadata": {},
   "outputs": [
    {
     "name": "stderr",
     "output_type": "stream",
     "text": [
      "2022-07-31 13:23:56.651 | INFO     | __main__:fn_schedule_cosine_with_warmpup_decay_timm:52 - num_cycles=3\n"
     ]
    },
    {
     "name": "stdout",
     "output_type": "stream",
     "text": [
      "min(lrs)=0.01000, max(lrs)=0.09800\n"
     ]
    },
    {
     "data": {
      "image/png": "[encoded data removed]",
      "text/plain": [
       "<Figure size 432x288 with 1 Axes>"
      ]
     },
     "metadata": {
      "needs_background": "light"
     },
     "output_type": "display_data"
    }
   ],
   "source": [
    "\n",
    "fn = fn_schedule_cosine_with_warmpup_decay_timm(100, 10, 30, 3)\n",
    "plot_lr_step_schedule(fn, 0.1, 100, 10)"
   ]
  },
  {
   "cell_type": "code",
   "execution_count": 6,
   "id": "8303a7e5-9c30-44a7-a274-b93c41178a1b",
   "metadata": {},
   "outputs": [],
   "source": [
    "# get_scheduler()"
   ]
  },
  {
   "cell_type": "markdown",
   "id": "1d537fcc-1d23-4994-957a-57413080067d",
   "metadata": {},
   "source": [
    "## LitModel"
   ]
  },
  {
   "cell_type": "code",
   "execution_count": 7,
   "id": "9895284c-cfed-43be-99fa-80707cdb9ee6",
   "metadata": {},
   "outputs": [
    {
     "data": {
      "text/plain": [
       "\u001b[0;31mSignature:\u001b[0m\n",
       "\u001b[0mfn_schedule_cosine_with_warmpup_decay_timm\u001b[0m\u001b[0;34m(\u001b[0m\u001b[0;34m\u001b[0m\n",
       "\u001b[0;34m\u001b[0m    \u001b[0mnum_epochs\u001b[0m\u001b[0;34m,\u001b[0m\u001b[0;34m\u001b[0m\n",
       "\u001b[0;34m\u001b[0m    \u001b[0mnum_steps_per_epoch\u001b[0m\u001b[0;34m,\u001b[0m\u001b[0;34m\u001b[0m\n",
       "\u001b[0;34m\u001b[0m    \u001b[0mnum_epochs_per_cycle\u001b[0m\u001b[0;34m,\u001b[0m\u001b[0;34m\u001b[0m\n",
       "\u001b[0;34m\u001b[0m    \u001b[0mnum_warmup_epochs\u001b[0m\u001b[0;34m=\u001b[0m\u001b[0;36m1\u001b[0m\u001b[0;34m,\u001b[0m\u001b[0;34m\u001b[0m\n",
       "\u001b[0;34m\u001b[0m    \u001b[0minit_lr\u001b[0m\u001b[0;34m=\u001b[0m\u001b[0;36m0.4\u001b[0m\u001b[0;34m,\u001b[0m\u001b[0;34m\u001b[0m\n",
       "\u001b[0;34m\u001b[0m    \u001b[0mmin_lr\u001b[0m\u001b[0;34m=\u001b[0m\u001b[0;36m0.1\u001b[0m\u001b[0;34m,\u001b[0m\u001b[0;34m\u001b[0m\n",
       "\u001b[0;34m\u001b[0m    \u001b[0mcycle_decay\u001b[0m\u001b[0;34m=\u001b[0m\u001b[0;36m0.8\u001b[0m\u001b[0;34m,\u001b[0m\u001b[0;34m\u001b[0m\n",
       "\u001b[0;34m\u001b[0m    \u001b[0minterval\u001b[0m\u001b[0;34m=\u001b[0m\u001b[0;34m'step'\u001b[0m\u001b[0;34m,\u001b[0m\u001b[0;34m\u001b[0m\n",
       "\u001b[0;34m\u001b[0m\u001b[0;34m)\u001b[0m\u001b[0;34m\u001b[0m\u001b[0;34m\u001b[0m\u001b[0m\n",
       "\u001b[0;31mDocstring:\u001b[0m <no docstring>\n",
       "\u001b[0;31mFile:\u001b[0m      /tmp/ipykernel_19628/1125565782.py\n",
       "\u001b[0;31mType:\u001b[0m      function\n"
      ]
     },
     "metadata": {},
     "output_type": "display_data"
    }
   ],
   "source": [
    "fn_schedule_cosine_with_warmpup_decay_timm?"
   ]
  },
  {
   "cell_type": "code",
   "execution_count": 8,
   "id": "cf2cdb5f-da74-4702-a4ee-802c67d8bd95",
   "metadata": {},
   "outputs": [],
   "source": [
    "#| export\n",
    "class LitModel(LightningModule):\n",
    "    \n",
    "    def __init__(self, model, \n",
    "                 # lr_schdule_cfg=dict(type='cosine', train_loader=None), \n",
    "                 create_optimizer_fn=None, \n",
    "                 create_lr_scheduler_fn=None,\n",
    "                 loss_fn=nn.CrossEntropyLoss()):\n",
    "        \n",
    "        super().__init__()\n",
    "        store_attr()\n",
    "    \n",
    "    def configure_optimizers(self):\n",
    "        \"\"\"\n",
    "            Setup optimizer and scheduler\n",
    "        \"\"\"\n",
    "        assert self.create_optimizer_fn is not None            \n",
    "        \n",
    "        optimizer = self.create_optimizer_fn(self.model.parameters())\n",
    "        scheduler = get_scheduler(optimizer, self.create_lr_scheduler_fn)\n",
    "        return [optimizer], [scheduler]\n",
    "\n",
    "\n",
    "    def forward(self, x):\n",
    "        return self.model(x)\n",
    "\n",
    "    def validation_step(self, batch, batch_idx):\n",
    "        x, y = batch[:2]\n",
    "        logits = self(x)\n",
    "        loss = self.loss_fn(logits, y)\n",
    "        preds = logits.softmax(1).argmax(1)\n",
    "        accs = (y == preds).float().mean()\n",
    "        self.log(\"val_loss\", loss, rank_zero_only=True, prog_bar=True,\n",
    "                    on_step=False, on_epoch=True)\n",
    "        self.log(\"val_acc\", accs, rank_zero_only=True, prog_bar=True,\n",
    "                    on_step=False, on_epoch=True)\n",
    "        return loss\n",
    "\n",
    "    def training_step(self, batch, batch_idx):\n",
    "        x, y = batch[:2]\n",
    "        logits = self(x)\n",
    "        loss = self.loss_fn(logits, y)\n",
    "\n",
    "        preds = logits.softmax(1).argmax(1)\n",
    "        accs = (y == preds).float().mean()\n",
    "        \n",
    "        self.log(\"training_loss\", loss, prog_bar=True, rank_zero_only=True, on_epoch=True)\n",
    "        self.log(\"training_accuracy\", accs, prog_bar=True, rank_zero_only=True, on_epoch=True)\n",
    "        return loss"
   ]
  },
  {
   "cell_type": "code",
   "execution_count": null,
   "id": "b32d17d1-f81b-4915-9e5b-c5cb4842d852",
   "metadata": {},
   "outputs": [],
   "source": []
  },
  {
   "cell_type": "markdown",
   "id": "1b955898-c203-4380-9e7c-d5390ce37213",
   "metadata": {},
   "source": [
    "## Get trainer"
   ]
  },
  {
   "cell_type": "code",
   "execution_count": 9,
   "id": "31867c0d-0d51-4e22-b9e5-54c7a04e99a1",
   "metadata": {},
   "outputs": [],
   "source": [
    "#| export\n",
    "def get_trainer(exp_name, gpus=1, max_epochs=None, distributed=False,\n",
    "        monitor=dict(metric=\"val_acc\", mode=\"max\"), save_every_n_epochs=1, save_top_k=1, use_version=True,\n",
    "    trainer_kwargs=dict()):\n",
    "    if max_epochs is None:\n",
    "        assert optim_cfg is not None, f'optim_cfg and max_epoch cannot be both None'\n",
    "        max_epochs = optim_cfg['epochs']\n",
    "        \n",
    "    \n",
    "    root_log_dir = osp.join(\n",
    "            \"lightning_logs\", exp_name)\n",
    "    \n",
    "    cur_num_exps = len(os.listdir(root_log_dir)) if osp.exists(root_log_dir) else 0\n",
    "    version = f\"{cur_num_exps:02d}\"\n",
    "    \n",
    "    if use_version:\n",
    "        root_log_dir = osp.join(root_log_dir, version)\n",
    "        logger.info('Root log directory: {}'.format(root_log_dir))\n",
    "        \n",
    "    filename=\"{epoch}-{\"+monitor[\"metric\"]+\":.2f}\"\n",
    "\n",
    "    callback_ckpt = ModelCheckpoint(\n",
    "        dirpath=osp.join(root_log_dir, \"ckpts\"),\n",
    "        monitor=monitor['metric'],mode=monitor['mode'],\n",
    "        filename=filename,\n",
    "        save_last=True,\n",
    "        every_n_epochs=save_every_n_epochs,\n",
    "        save_top_k=save_top_k,\n",
    "    )\n",
    "\n",
    "    callback_tqdm = TQDMProgressBar(refresh_rate=5)\n",
    "    callback_lrmornitor = LearningRateMonitor(logging_interval=\"step\")\n",
    "    plt_logger = TensorBoardLogger(\n",
    "        osp.join(root_log_dir, \"tb_logs\"), version=version\n",
    "    )\n",
    "    \n",
    "    trainer = Trainer(\n",
    "        gpus=gpus,\n",
    "        max_epochs=max_epochs,\n",
    "        strategy= \"dp\" if not distributed else \"ddp\",\n",
    "        callbacks=[callback_ckpt, callback_tqdm, callback_lrmornitor],\n",
    "        logger=plt_logger,**trainer_kwargs,\n",
    "    )\n",
    "    return trainer"
   ]
  },
  {
   "cell_type": "code",
   "execution_count": 10,
   "id": "41cd3e79-09b3-423c-a057-61808c245d55",
   "metadata": {},
   "outputs": [],
   "source": [
    "#|hide\n"
   ]
  },
  {
   "cell_type": "markdown",
   "id": "196ee2f3-7c66-4a6d-8ef3-d2900ffab513",
   "metadata": {},
   "source": [
    "# Mnist example "
   ]
  },
  {
   "cell_type": "code",
   "execution_count": 11,
   "id": "8a35f029-c1bf-4b6f-a312-4a9a5de51342",
   "metadata": {},
   "outputs": [],
   "source": [
    "#hide\n",
    "import os\n",
    "\n",
    "import torch\n",
    "from pytorch_lightning import LightningModule, Trainer\n",
    "from torch import nn\n",
    "from torch.nn import functional as F\n",
    "from torch.utils.data import DataLoader, random_split\n",
    "from torchmetrics import Accuracy\n",
    "from torchvision import transforms\n",
    "from torchvision.datasets import MNIST\n",
    "import pytorch_lightning as pl\n",
    "\n",
    "BATCH_SIZE = 256 #if AVAIL_GPUS else 64\n",
    "\n",
    "from timm.data.transforms_factory import transforms_imagenet_train, transforms_imagenet_eval\n",
    "\n",
    "\n",
    "def to_rgb(x):\n",
    "    return x.convert('RGB')\n",
    "train_transform = transforms.Compose(\n",
    "    [\n",
    "        transforms.Lambda(to_rgb),\n",
    "        *transforms_imagenet_train(32).transforms,\n",
    "    ]\n",
    ")\n",
    "class ClassifierDataModule(pl.LightningDataModule):\n",
    "    def __init__(self, data_dir: str = \"./\", batch_size: int = 32):\n",
    "        super().__init__()\n",
    "        self.data_dir = data_dir\n",
    "        self.batch_size = batch_size\n",
    "\n",
    "    def setup(self, stage):\n",
    "        self.mnist_test = MNIST(self.data_dir, train=False, transform=train_transform)\n",
    "        self.mnist_predict = MNIST(self.data_dir, train=False, transform=train_transform)\n",
    "        mnist_full = MNIST(self.data_dir, train=True, transform=train_transform)\n",
    "        self.mnist_train, self.mnist_val = random_split(mnist_full, [55000, 5000])\n",
    "\n",
    "    def train_dataloader(self):\n",
    "        return DataLoader(self.mnist_train, batch_size=self.batch_size)\n",
    "\n",
    "    def val_dataloader(self):\n",
    "        return DataLoader(self.mnist_val, batch_size=self.batch_size)\n",
    "\n",
    "    def test_dataloader(self):\n",
    "        return DataLoader(self.mnist_test, batch_size=self.batch_size)\n",
    "\n",
    "    def predict_dataloader(self):\n",
    "        return DataLoader(self.mnist_predict, batch_size=self.batch_size)\n",
    "\n",
    "    # def teardown(self, stage: Optional[str] = None):\n",
    "        # Used to clean-up when the run is finished\n",
    "# mnist = MNISTDataModule()"
   ]
  },
  {
   "cell_type": "code",
   "execution_count": 4,
   "id": "74ff5c68-3ebf-49f3-8991-3e370051c9e6",
   "metadata": {},
   "outputs": [],
   "source": [
    "# # Init DataLoader from MNIST Dataset\n",
    "# from timm.data.transforms_factory import transforms_imagenet_train, transforms_imagenet_eval\n",
    "\n",
    "# T = transforms.Compose(\n",
    "# [    \n",
    "#     transforms.Lambda(to_rgb),\n",
    "#     *transforms_imagenet_eval(32).transforms,\n",
    "# ]\n",
    "# )\n",
    "\n",
    "# train_ds = MNIST(root='./', train=True, download=True, transform=T)\n",
    "# test_ds = MNIST(root='./', train=False, download=True, transform=T)\n",
    "\n",
    "# train_loader = DataLoader(train_ds, batch_size=BATCH_SIZE, num_workers=4)\n",
    "# test_loader = DataLoader(test_ds, batch_size=BATCH_SIZE*2, num_workers=4)"
   ]
  },
  {
   "cell_type": "code",
   "execution_count": 5,
   "id": "ba67e86e-34e4-42c9-a931-ad58584ea943",
   "metadata": {},
   "outputs": [],
   "source": [
    "# [m for m in timm.list_models() if 'mobile' in m]"
   ]
  },
  {
   "cell_type": "code",
   "execution_count": 6,
   "id": "a0ce68b9-5a6a-4f82-b366-11fb9681dc6e",
   "metadata": {},
   "outputs": [],
   "source": [
    "# #| hide\n",
    "# import torch.nn as nn\n",
    "# import timm\n",
    "\n",
    "# model = timm.create_model('mobilenetv2_035', True, num_classes=10)\n",
    "# num_epochs = 10\n",
    "\n",
    "# steps_per_epoch = len(train_loader)\n",
    "# optim_sche = fn_schedule_cosine_with_warmpup_decay_timm(num_epochs, steps_per_epoch, num_epochs//3, 1)\n",
    "# create_optim = lambda params: torch.optim.Adam(params, lr=0.15)\n",
    "\n",
    "# trainer = get_trainer('test', gpus=[0], \n",
    "#                       distributed=False, max_epochs=num_epochs,\n",
    "#                      trainer_kwargs=dict(\n",
    "#                          check_val_every_n_epoch=3,\n",
    "#                      ))\n",
    "\n",
    "# lit_model = LitModel(model, dict(type='cosine', train_loader=train_loader, num_epochs_per_cycle=3), create_optim)\n",
    "# lr_finder = trainer.fit(lit_model, train_loader, test_loader)"
   ]
  },
  {
   "cell_type": "code",
   "execution_count": 2,
   "id": "d7456fe0-82c7-4e45-9981-550722d0e85b",
   "metadata": {},
   "outputs": [],
   "source": [
    "# trainer."
   ]
  },
  {
   "cell_type": "markdown",
   "id": "b9489e66-d370-49d1-9ac7-afa6767a145c",
   "metadata": {},
   "source": [
    "# Export"
   ]
  },
  {
   "cell_type": "code",
   "execution_count": 10,
   "id": "ae5ac7ed-a0be-41e4-8905-1bbcfc0f31bd",
   "metadata": {},
   "outputs": [],
   "source": [
    "from nbdev import nbdev_export\n",
    "nbdev_export()"
   ]
  },
  {
   "cell_type": "code",
   "execution_count": null,
   "id": "35afd161-3287-433a-8ff9-2c6833bd1059",
   "metadata": {},
   "outputs": [],
   "source": []
  },
  {
   "cell_type": "code",
   "execution_count": null,
   "id": "f0b441f3",
   "metadata": {},
   "outputs": [],
   "source": []
  },
  {
   "cell_type": "code",
   "execution_count": null,
   "id": "6f9a9bc6-ed25-4421-912b-0aad04466241",
   "metadata": {},
   "outputs": [],
   "source": []
  },
  {
   "cell_type": "code",
   "execution_count": null,
   "id": "164db8ae-ea6c-49d9-b400-d1b1d7ee975e",
   "metadata": {},
   "outputs": [],
   "source": []
  }
 ],
 "metadata": {
  "kernelspec": {
   "display_name": "Python 3",
   "language": "python",
   "name": "python3"
  },
  "language_info": {
   "codemirror_mode": {
    "name": "ipython",
    "version": 3
   },
   "file_extension": ".py",
   "mimetype": "text/x-python",
   "name": "python",
   "nbconvert_exporter": "python",
   "pygments_lexer": "ipython3",
   "version": "3.9.12"
  },
  "toc-showtags": false,
  "vscode": {
   "interpreter": {
    "hash": "df0893f56f349688326838aaeea0de204df53a132722cbd565e54b24a8fec5f6"
   }
  }
 },
 "nbformat": 4,
 "nbformat_minor": 5
}
