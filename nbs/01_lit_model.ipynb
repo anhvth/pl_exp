{
 "cells": [
  {
   "cell_type": "code",
   "execution_count": 1,
   "id": "25d2c017-7c7a-48b0-ac7f-8c19c7074e0f",
   "metadata": {},
   "outputs": [],
   "source": [
    "#|default_exp lit_model"
   ]
  },
  {
   "cell_type": "markdown",
   "id": "d34991d1-2a84-4202-a436-f840e06e2166",
   "metadata": {},
   "source": [
    "# LitModel\n",
    "> Lit model API"
   ]
  },
  {
   "cell_type": "code",
   "execution_count": 2,
   "id": "b69641cf-7889-43c6-89e7-1cde9d864950",
   "metadata": {},
   "outputs": [],
   "source": [
    "%load_ext autoreload\n",
    "%autoreload 2"
   ]
  },
  {
   "cell_type": "markdown",
   "id": "6d37a026-d840-4e4e-a449-ee5e38698326",
   "metadata": {},
   "source": [
    "## Imports"
   ]
  },
  {
   "cell_type": "code",
   "execution_count": 3,
   "id": "525de612-6478-4a7a-b7e0-59c949076681",
   "metadata": {},
   "outputs": [
    {
     "name": "stderr",
     "output_type": "stream",
     "text": [
      "/home/anhvth/miniconda3/lib/python3.9/site-packages/tqdm/auto.py:22: TqdmWarning: IProgress not found. Please update jupyter and ipywidgets. See https://ipywidgets.readthedocs.io/en/stable/user_install.html\n",
      "  from .autonotebook import tqdm as notebook_tqdm\n"
     ]
    }
   ],
   "source": [
    "#| export\n",
    "from loguru import logger\n",
    "from pytorch_lightning.core.lightning import LightningModule\n",
    "import torch\n",
    "import torch.nn as nn\n",
    "from datetime import datetime, timedelta\n",
    "from pytorch_lightning.callbacks.progress import TQDMProgressBar\n",
    "from pytorch_lightning.loggers import TensorBoardLogger\n",
    "import os\n",
    "from fastcore.all import *\n",
    "from pytorch_lightning import Trainer\n",
    "from pytorch_lightning.callbacks import LearningRateMonitor, ModelCheckpoint\n",
    "try:\n",
    "    from lit_classifier.loss import FocalLoss, BinaryFocalLoss\n",
    "except:\n",
    "    FocalLoss, BinaryFocalLoss = None, None\n",
    "    logger.warning('Install mmcv-full if you wish to use FocalLoss')\n",
    "import os.path as osp\n",
    "from torch.optim.lr_scheduler import LambdaLR"
   ]
  },
  {
   "cell_type": "code",
   "execution_count": null,
   "id": "247e3565-c6d0-462d-9517-ffff75a6fcdf",
   "metadata": {},
   "outputs": [],
   "source": []
  },
  {
   "cell_type": "markdown",
   "id": "90006936-9100-40da-978e-49f205108e3b",
   "metadata": {
    "tags": []
   },
   "source": [
    "## Schedulers"
   ]
  },
  {
   "cell_type": "code",
   "execution_count": 4,
   "id": "2c9add50-1b56-42f9-8feb-4a4a56d53e37",
   "metadata": {},
   "outputs": [],
   "source": [
    "#| export\n",
    "from timm.scheduler.cosine_lr import CosineLRScheduler, Scheduler\n",
    "\n",
    "# def get_optim_cfg(type='linear', \n",
    "#                   epochs, num_steps_per_epoch, \n",
    "#                   lr=1e-3, init_lr=0.5, min_lr=0.2, \n",
    "#                   interval='step', optim='Adam', num_cycle=3, \n",
    "#                   cycle_decay=0.8, **kwargs):\n",
    "    \n",
    "#     steps = epochs*num_steps_per_epoch\n",
    "#     num_epochs_per_cycle = int(epochs/num_cycle)\n",
    "    \n",
    "#     return dict(init_lr=init_lr, \n",
    "#                 min_lr=min_lr,\n",
    "#                 steps=steps,\n",
    "#                 epochs=epochs,\n",
    "#                 interval=interval,\n",
    "#                 optim=optim, \n",
    "#                 num_epochs_per_cycle=num_epochs_per_cycle,\n",
    "#                 num_steps_per_epoch=num_steps_per_epoch, **kwargs)\n",
    "def plot_lr_step_schedule(fn, num_epochs, num_steps_per_epoch):\n",
    "    import matplotlib.pyplot as plt\n",
    "    lrs = []\n",
    "    steps = num_epochs*num_steps_per_epoch\n",
    "    for step in range(steps):\n",
    "        lrs.append(fn(step))\n",
    "\n",
    "    plt.plot(range(steps),lrs)\n",
    "    plt.show()\n",
    "\n",
    "def fn_schedule_linear_with_warmup(num_epochs, num_steps_per_epoch, \n",
    "                                   num_warmup_steps=0, init_lr=0.4, min_lr=0.1):\n",
    "    num_training_steps = num_epochs*num_steps_per_epoch\n",
    "    def lr_lambda(current_step: int):\n",
    "        if current_step < num_warmup_steps:\n",
    "            x = (1-init_lr)*(current_step / num_warmup_steps)+init_lr\n",
    "            return x\n",
    "\n",
    "        total_step = (num_training_steps-num_warmup_steps)\n",
    "        current_step = current_step-num_warmup_steps\n",
    "        rt = min_lr+(1-min_lr)*(1-current_step/total_step)\n",
    "        return rt\n",
    "    return lr_lambda\n",
    "\n",
    "\n",
    "def fn_schedule_cosine_with_warmpup_decay_timm(num_epochs, num_steps_per_epoch, num_epochs_per_cycle, \n",
    "                                   num_warmup_epochs=1, init_lr=0.4, min_lr=0.1, cycle_decay=.8, interval='step'):\n",
    "    lr = 1\n",
    "    num_cycles = num_epochs // num_epochs_per_cycle\n",
    "    optim = torch.optim.SGD(nn.Linear(1,1).parameters(), lr)\n",
    "    m = 1 if interval == 'epoch' else num_steps_per_epoch\n",
    "    logger.info(f'{num_cycles=}')\n",
    "    schedule = CosineLRScheduler(optim, \n",
    "                                 t_initial=num_epochs_per_cycle*m,\n",
    "                                 lr_min=min_lr*lr, \n",
    "                                 cycle_decay=cycle_decay,\n",
    "                                 cycle_limit=num_cycles,warmup_t=num_warmup_epochs*m,warmup_lr_init=init_lr*lr,\n",
    "                                )\n",
    "    get_lr = lambda step: schedule._get_lr(step)[0]\n",
    "    return get_lr\n",
    "    \n",
    "\n",
    "def get_scheduler(optimizer, lr_schedule_fn, interval='step', verbose=False):\n",
    "    scheduler = {\n",
    "        \"scheduler\": LambdaLR(optimizer, lr_schedule_fn, -1, verbose=verbose),\n",
    "        \"interval\": interval, \n",
    "        \"frequency\": 1,\n",
    "    }\n",
    "    return scheduler"
   ]
  },
  {
   "cell_type": "code",
   "execution_count": 19,
   "id": "c8e6bcbf-65da-4259-85e4-a5d0278b79e6",
   "metadata": {},
   "outputs": [
    {
     "name": "stderr",
     "output_type": "stream",
     "text": [
      "2022-07-31 11:32:54.526 | INFO     | __main__:fn_schedule_cosine_with_warmpup_decay_timm:52 - num_cycles=3\n"
     ]
    },
    {
     "data": {
      "image/png": "[encoded data removed]",
      "text/plain": [
       "<Figure size 432x288 with 1 Axes>"
      ]
     },
     "metadata": {
      "needs_background": "light"
     },
     "output_type": "display_data"
    }
   ],
   "source": [
    "\n",
    "fn = fn_schedule_cosine_with_warmpup_decay_timm(100, 10, 30, 3)\n",
    "plot_lr_step_schedule(fn, 100, 10)"
   ]
  },
  {
   "cell_type": "code",
   "execution_count": 6,
   "id": "8303a7e5-9c30-44a7-a274-b93c41178a1b",
   "metadata": {},
   "outputs": [],
   "source": [
    "# get_scheduler()"
   ]
  },
  {
   "cell_type": "markdown",
   "id": "1d537fcc-1d23-4994-957a-57413080067d",
   "metadata": {},
   "source": [
    "## LitModel"
   ]
  },
  {
   "cell_type": "code",
   "execution_count": 7,
   "id": "cf2cdb5f-da74-4702-a4ee-802c67d8bd95",
   "metadata": {},
   "outputs": [],
   "source": [
    "#| export\n",
    "class LitModel(LightningModule):\n",
    "    __repr__ = basic_repr('model,optim_schedule_fn,loss')\n",
    "    def __init__(self, model, create_schedule_fn=None, create_optimizer_fn=None, loss_fn=nn.CrossEntropyLoss()):\n",
    "        super().__init__()\n",
    "        store_attr()\n",
    "    \n",
    "    def configure_optimizers(self):\n",
    "        \"\"\"\n",
    "            Setup optimizer and scheduler\n",
    "        \"\"\"\n",
    "\n",
    "        assert self.create_schedule_fn is not None\n",
    "        assert self.create_optimizer_fn is not None\n",
    "            \n",
    "        optimizer = self.create_optimizer_fn(self.model.parameters())\n",
    "        scheduler = get_scheduler(optimizer, self.create_schedule_fn)\n",
    "        return [optimizer], [scheduler]\n",
    "\n",
    "\n",
    "    def forward(self, x):\n",
    "        return self.model(x)\n",
    "\n",
    "    def validation_step(self, batch, batch_idx):\n",
    "        x, y = batch[:2]\n",
    "        logits = self(x)\n",
    "        loss = self.loss_fn(logits, y)\n",
    "        preds = logits.softmax(1).argmax(1)\n",
    "        accs = (y == preds).float().mean()\n",
    "        self.log(\"val_loss\", loss, rank_zero_only=True, prog_bar=True,\n",
    "                    on_step=False, on_epoch=True)\n",
    "        self.log(\"val_acc\", accs, rank_zero_only=True, prog_bar=True,\n",
    "                    on_step=False, on_epoch=True)\n",
    "        return loss\n",
    "\n",
    "    def training_step(self, batch, batch_idx):\n",
    "        x, y = batch[:2]\n",
    "        logits = self(x)\n",
    "        loss = self.loss_fn(logits, y)\n",
    "\n",
    "        preds = logits.softmax(1).argmax(1)\n",
    "        accs = (y == preds).float().mean()\n",
    "        \n",
    "        self.log(\"training_loss\", loss, prog_bar=True, rank_zero_only=True, on_epoch=True)\n",
    "        self.log(\"training_accuracy\", accs, prog_bar=True, rank_zero_only=True, on_epoch=True)\n",
    "        return loss"
   ]
  },
  {
   "cell_type": "markdown",
   "id": "1b955898-c203-4380-9e7c-d5390ce37213",
   "metadata": {},
   "source": [
    "## Get trainer"
   ]
  },
  {
   "cell_type": "code",
   "execution_count": 8,
   "id": "31867c0d-0d51-4e22-b9e5-54c7a04e99a1",
   "metadata": {},
   "outputs": [],
   "source": [
    "#| export\n",
    "def get_trainer(exp_name, gpus=1, max_epochs=None, distributed=False,\n",
    "        monitor=dict(metric=\"val_acc\", mode=\"max\"), save_every_n_epochs=1, save_top_k=1, use_version=True,\n",
    "    \n",
    "    trainer_kwargs=dict(), optim_cfg=None):\n",
    "    if max_epochs is None:\n",
    "        assert optim_cfg is not None, f'optim_cfg and max_epoch cannot be both None'\n",
    "        max_epochs = optim_cfg['epochs']\n",
    "        \n",
    "    now = datetime.now() + timedelta(hours=7)\n",
    "    \n",
    "    root_log_dir = osp.join(\n",
    "            \"lightning_logs\", exp_name)\n",
    "    \n",
    "    cur_num_exps = len(os.listdir(root_log_dir)) if osp.exists(root_log_dir) else 0\n",
    "    version = f\"{cur_num_exps:02d}\"\n",
    "    \n",
    "    if use_version:\n",
    "        root_log_dir = osp.join(root_log_dir, version)\n",
    "        logger.info('Root log directory: {}'.format(root_log_dir))\n",
    "        \n",
    "    filename=\"{epoch}-{\"+monitor[\"metric\"]+\":.2f}\"\n",
    "\n",
    "    callback_ckpt = ModelCheckpoint(\n",
    "        dirpath=osp.join(root_log_dir, \"ckpts\"),\n",
    "        monitor=monitor['metric'],mode=monitor['mode'],\n",
    "        filename=filename,\n",
    "        save_last=True,\n",
    "        every_n_epochs=save_every_n_epochs,\n",
    "        save_top_k=save_top_k,\n",
    "    )\n",
    "\n",
    "    callback_tqdm = TQDMProgressBar(refresh_rate=5)\n",
    "    callback_lrmornitor = LearningRateMonitor(logging_interval=\"step\")\n",
    "    plt_logger = TensorBoardLogger(\n",
    "        osp.join(root_log_dir, \"tb_logs\"), version=version\n",
    "    )\n",
    "    \n",
    "    trainer = Trainer(\n",
    "        gpus=gpus,\n",
    "        max_epochs=max_epochs,\n",
    "        strategy= \"dp\" if not distributed else \"ddp\",\n",
    "        callbacks=[callback_ckpt, callback_tqdm, callback_lrmornitor],\n",
    "        logger=plt_logger,**trainer_kwargs,\n",
    "    )\n",
    "    return trainer"
   ]
  },
  {
   "cell_type": "code",
   "execution_count": 9,
   "id": "41cd3e79-09b3-423c-a057-61808c245d55",
   "metadata": {},
   "outputs": [],
   "source": [
    "#|hide\n"
   ]
  },
  {
   "cell_type": "markdown",
   "id": "196ee2f3-7c66-4a6d-8ef3-d2900ffab513",
   "metadata": {},
   "source": [
    "# Mnist example "
   ]
  },
  {
   "cell_type": "code",
   "execution_count": 10,
   "id": "8a35f029-c1bf-4b6f-a312-4a9a5de51342",
   "metadata": {},
   "outputs": [],
   "source": [
    "#hide\n",
    "import os\n",
    "\n",
    "import torch\n",
    "from pytorch_lightning import LightningModule, Trainer\n",
    "from torch import nn\n",
    "from torch.nn import functional as F\n",
    "from torch.utils.data import DataLoader, random_split\n",
    "from torchmetrics import Accuracy\n",
    "from torchvision import transforms\n",
    "from torchvision.datasets import MNIST\n",
    "import pytorch_lightning as pl\n",
    "\n",
    "BATCH_SIZE = 256 #if AVAIL_GPUS else 64\n",
    "\n",
    "from timm.data.transforms_factory import transforms_imagenet_train, transforms_imagenet_eval\n",
    "\n",
    "\n",
    "def to_rgb(x):\n",
    "    return x.convert('RGB')\n",
    "train_transform = transforms.Compose(\n",
    "    [\n",
    "        transforms.Lambda(to_rgb),\n",
    "        *transforms_imagenet_train(32).transforms,\n",
    "    ]\n",
    ")\n",
    "class ClassifierDataModule(pl.LightningDataModule):\n",
    "    def __init__(self, data_dir: str = \"./\", batch_size: int = 32):\n",
    "        super().__init__()\n",
    "        self.data_dir = data_dir\n",
    "        self.batch_size = batch_size\n",
    "\n",
    "    def setup(self, stage):\n",
    "        self.mnist_test = MNIST(self.data_dir, train=False, transform=train_transform)\n",
    "        self.mnist_predict = MNIST(self.data_dir, train=False, transform=train_transform)\n",
    "        mnist_full = MNIST(self.data_dir, train=True, transform=train_transform)\n",
    "        self.mnist_train, self.mnist_val = random_split(mnist_full, [55000, 5000])\n",
    "\n",
    "    def train_dataloader(self):\n",
    "        return DataLoader(self.mnist_train, batch_size=self.batch_size)\n",
    "\n",
    "    def val_dataloader(self):\n",
    "        return DataLoader(self.mnist_val, batch_size=self.batch_size)\n",
    "\n",
    "    def test_dataloader(self):\n",
    "        return DataLoader(self.mnist_test, batch_size=self.batch_size)\n",
    "\n",
    "    def predict_dataloader(self):\n",
    "        return DataLoader(self.mnist_predict, batch_size=self.batch_size)\n",
    "\n",
    "    # def teardown(self, stage: Optional[str] = None):\n",
    "        # Used to clean-up when the run is finished\n",
    "# mnist = MNISTDataModule()"
   ]
  },
  {
   "cell_type": "code",
   "execution_count": 11,
   "id": "74ff5c68-3ebf-49f3-8991-3e370051c9e6",
   "metadata": {},
   "outputs": [],
   "source": [
    "# Init DataLoader from MNIST Dataset\n",
    "from timm.data.transforms_factory import transforms_imagenet_train, transforms_imagenet_eval\n",
    "\n",
    "T = transforms.Compose(\n",
    "[    \n",
    "    transforms.Lambda(to_rgb),\n",
    "    *transforms_imagenet_eval(32).transforms,\n",
    "]\n",
    ")\n",
    "\n",
    "train_ds = MNIST(root='./', train=True, download=True, transform=T)\n",
    "test_ds = MNIST(root='./', train=False, download=True, transform=T)\n",
    "\n",
    "train_loader = DataLoader(train_ds, batch_size=BATCH_SIZE, num_workers=4)\n",
    "test_loader = DataLoader(test_ds, batch_size=BATCH_SIZE*2, num_workers=4)"
   ]
  },
  {
   "cell_type": "code",
   "execution_count": 12,
   "id": "ba67e86e-34e4-42c9-a931-ad58584ea943",
   "metadata": {},
   "outputs": [],
   "source": [
    "# [m for m in timm.list_models() if 'mobile' in m]"
   ]
  },
  {
   "cell_type": "code",
   "execution_count": 24,
   "id": "a0ce68b9-5a6a-4f82-b366-11fb9681dc6e",
   "metadata": {},
   "outputs": [
    {
     "name": "stderr",
     "output_type": "stream",
     "text": [
      "No pretrained weights exist or were found for this model. Using random initialization.\n",
      "2022-07-31 11:34:04.657 | INFO     | __main__:fn_schedule_cosine_with_warmpup_decay_timm:52 - num_cycles=3\n",
      "2022-07-31 11:34:04.658 | INFO     | __main__:get_trainer:17 - Root log directory: lightning_logs/test/02\n",
      "GPU available: True, used: True\n",
      "TPU available: False, using: 0 TPU cores\n",
      "IPU available: False, using: 0 IPUs\n",
      "HPU available: False, using: 0 HPUs\n"
     ]
    }
   ],
   "source": [
    "#| hide\n",
    "import torch.nn as nn\n",
    "import timm\n",
    "model = timm.create_model('mobilenetv2_035', True, num_classes=10)\n",
    "num_epochs = 100\n",
    "steps_per_epoch = len(train_loader)\n",
    "optim_sche = fn_schedule_cosine_with_warmpup_decay_timm(num_epochs, steps_per_epoch, num_epochs//3, 1)\n",
    "create_optim = lambda params: torch.optim.Adam(params, lr=1e-4)\n",
    "lit_model = LitModel(model, optim_sche, create_optim)\n",
    "trainer = get_trainer('test', gpus=[0], distributed=False, max_epochs=num_epochs)"
   ]
  },
  {
   "cell_type": "code",
   "execution_count": 25,
   "id": "12a7d488-2afd-42d1-a4e3-3a6eec5e8a87",
   "metadata": {},
   "outputs": [],
   "source": [
    "def plot_lr_step_schedule(fn, num_epochs, num_steps_per_epoch):\n",
    "    import matplotlib.pyplot as plt\n",
    "    lrs = []\n",
    "    steps = num_epochs*num_steps_per_epoch\n",
    "    for step in range(steps):\n",
    "        lrs.append(fn(step))\n",
    "    print(f'{min(lrs)}, {max(lrs)}')\n",
    "    plt.plot(range(steps),lrs)\n",
    "    plt.show()"
   ]
  },
  {
   "cell_type": "code",
   "execution_count": 26,
   "id": "2605a789-0ce1-4156-872a-c6d2eb87c1e9",
   "metadata": {},
   "outputs": [
    {
     "name": "stdout",
     "output_type": "stream",
     "text": [
      "0.1, 0.997962365157888\n"
     ]
    },
    {
     "data": {
      "image/png": "[encoded data removed]",
      "text/plain": [
       "<Figure size 432x288 with 1 Axes>"
      ]
     },
     "metadata": {
      "needs_background": "light"
     },
     "output_type": "display_data"
    }
   ],
   "source": [
    "plot_lr_step_schedule(optim_sche, num_epochs, steps_per_epoch)"
   ]
  },
  {
   "cell_type": "code",
   "execution_count": 27,
   "id": "f85d8300-1632-4719-b4f0-a355533dbbca",
   "metadata": {},
   "outputs": [],
   "source": [
    "# lit_model.configure_optimizers()"
   ]
  },
  {
   "cell_type": "code",
   "execution_count": 16,
   "id": "2cc0b965-c8b4-415d-aefa-77a433fa4e03",
   "metadata": {},
   "outputs": [
    {
     "name": "stderr",
     "output_type": "stream",
     "text": [
      "LOCAL_RANK: 0 - CUDA_VISIBLE_DEVICES: [0]\n",
      "\n",
      "  | Name    | Type             | Params\n",
      "---------------------------------------------\n",
      "0 | model   | EfficientNet     | 408 K \n",
      "1 | loss_fn | CrossEntropyLoss | 0     \n",
      "---------------------------------------------\n",
      "408 K     Trainable params\n",
      "0         Non-trainable params\n",
      "408 K     Total params\n",
      "1.636     Total estimated model params size (MB)\n"
     ]
    },
    {
     "name": "stdout",
     "output_type": "stream",
     "text": [
      "Epoch 0:  92%|████████████████████▎ | 235/255 [00:06<00:00, 34.96it/s, loss=3.18, v_num=01, training_loss_step=3.400, training_accuracy_step=0.135]\n",
      "Validation: 0it [00:00, ?it/s]\u001b[A\n",
      "Validation:   0%|                                                                                                           | 0/20 [00:00<?, ?it/s]\u001b[A\n",
      "Validation DataLoader 0:   0%|                                                                                              | 0/20 [00:00<?, ?it/s]\u001b[A\n",
      "Epoch 0:  94%|████████████████████▋ | 240/255 [00:07<00:00, 33.94it/s, loss=3.18, v_num=01, training_loss_step=3.400, training_accuracy_step=0.135]\u001b[A\n",
      "Validation DataLoader 0:  50%|██████████████████████████████████████████▌                                          | 10/20 [00:00<00:00, 50.89it/s]\u001b[A\n",
      "Epoch 0:  96%|█████████████████████▏| 245/255 [00:07<00:00, 34.17it/s, loss=3.18, v_num=01, training_loss_step=3.400, training_accuracy_step=0.135]\u001b[A\n",
      "Epoch 0:  98%|█████████████████████▌| 250/255 [00:07<00:00, 34.40it/s, loss=3.18, v_num=01, training_loss_step=3.400, training_accuracy_step=0.135]\u001b[A\n",
      "Validation DataLoader 0: 100%|█████████████████████████████████████████████████████████████████████████████████████| 20/20 [00:00<00:00, 51.59it/s]\u001b[A\n",
      "Epoch 0: 100%|█| 255/255 [00:07<00:00, 34.62it/s, loss=3.18, v_num=01, training_loss_step=3.400, training_accuracy_step=0.135, val_loss=3.110, val_\u001b[A\n",
      "Epoch 1:  92%|▉| 235/255 [00:06<00:00, 34.89it/s, loss=2.78, v_num=01, training_loss_step=2.580, training_accuracy_step=0.156, val_loss=3.110, val_\u001b[A\n",
      "Validation: 0it [00:00, ?it/s]\u001b[A\n",
      "Validation:   0%|                                                                                                           | 0/20 [00:00<?, ?it/s]\u001b[A\n",
      "Validation DataLoader 0:   0%|                                                                                              | 0/20 [00:00<?, ?it/s]\u001b[A\n",
      "Epoch 1:  94%|▉| 240/255 [00:07<00:00, 33.94it/s, loss=2.78, v_num=01, training_loss_step=2.580, training_accuracy_step=0.156, val_loss=3.110, val_\u001b[A\n",
      "Validation DataLoader 0:  50%|██████████████████████████████████████████▌                                          | 10/20 [00:00<00:00, 53.51it/s]\u001b[A\n",
      "Epoch 1:  96%|▉| 245/255 [00:07<00:00, 34.20it/s, loss=2.78, v_num=01, training_loss_step=2.580, training_accuracy_step=0.156, val_loss=3.110, val_\u001b[A\n",
      "Epoch 1:  98%|▉| 250/255 [00:07<00:00, 34.46it/s, loss=2.78, v_num=01, training_loss_step=2.580, training_accuracy_step=0.156, val_loss=3.110, val_\u001b[A\n",
      "Validation DataLoader 0: 100%|█████████████████████████████████████████████████████████████████████████████████████| 20/20 [00:00<00:00, 54.19it/s]\u001b[A\n",
      "Epoch 1: 100%|█| 255/255 [00:07<00:00, 34.70it/s, loss=2.78, v_num=01, training_loss_step=2.580, training_accuracy_step=0.156, val_loss=2.810, val_\u001b[A\n",
      "Epoch 2:  92%|▉| 235/255 [00:06<00:00, 34.91it/s, loss=2.56, v_num=01, training_loss_step=2.330, training_accuracy_step=0.250, val_loss=2.810, val_\u001b[A\n",
      "Validation: 0it [00:00, ?it/s]\u001b[A\n",
      "Validation:   0%|                                                                                                           | 0/20 [00:00<?, ?it/s]\u001b[A\n",
      "Validation DataLoader 0:   0%|                                                                                              | 0/20 [00:00<?, ?it/s]\u001b[A\n",
      "Epoch 2:  94%|▉| 240/255 [00:07<00:00, 33.91it/s, loss=2.56, v_num=01, training_loss_step=2.330, training_accuracy_step=0.250, val_loss=2.810, val_\u001b[A\n",
      "Validation DataLoader 0:  50%|██████████████████████████████████████████▌                                          | 10/20 [00:00<00:00, 51.18it/s]\u001b[A\n",
      "Epoch 2:  96%|▉| 245/255 [00:07<00:00, 34.15it/s, loss=2.56, v_num=01, training_loss_step=2.330, training_accuracy_step=0.250, val_loss=2.810, val_\u001b[A\n",
      "Epoch 2:  98%|▉| 250/255 [00:07<00:00, 34.39it/s, loss=2.56, v_num=01, training_loss_step=2.330, training_accuracy_step=0.250, val_loss=2.810, val_\u001b[A\n",
      "Validation DataLoader 0: 100%|█████████████████████████████████████████████████████████████████████████████████████| 20/20 [00:00<00:00, 52.01it/s]\u001b[A\n",
      "Epoch 2: 100%|█| 255/255 [00:07<00:00, 34.62it/s, loss=2.56, v_num=01, training_loss_step=2.330, training_accuracy_step=0.250, val_loss=2.730, val_\u001b[A\n",
      "Epoch 3:  92%|▉| 235/255 [00:06<00:00, 35.84it/s, loss=2.45, v_num=01, training_loss_step=2.080, training_accuracy_step=0.302, val_loss=2.730, val_\u001b[A\n",
      "Validation: 0it [00:00, ?it/s]\u001b[A\n",
      "Validation:   0%|                                                                                                           | 0/20 [00:00<?, ?it/s]\u001b[A\n",
      "Validation DataLoader 0:   0%|                                                                                              | 0/20 [00:00<?, ?it/s]\u001b[A\n",
      "Epoch 3:  94%|▉| 240/255 [00:06<00:00, 34.77it/s, loss=2.45, v_num=01, training_loss_step=2.080, training_accuracy_step=0.302, val_loss=2.730, val_\u001b[A\n",
      "Validation DataLoader 0:  50%|██████████████████████████████████████████▌                                          | 10/20 [00:00<00:00, 51.47it/s]\u001b[A\n",
      "Epoch 3:  96%|▉| 245/255 [00:06<00:00, 35.00it/s, loss=2.45, v_num=01, training_loss_step=2.080, training_accuracy_step=0.302, val_loss=2.730, val_\u001b[A\n",
      "Epoch 3:  98%|▉| 250/255 [00:07<00:00, 35.24it/s, loss=2.45, v_num=01, training_loss_step=2.080, training_accuracy_step=0.302, val_loss=2.730, val_\u001b[A\n",
      "Validation DataLoader 0: 100%|█████████████████████████████████████████████████████████████████████████████████████| 20/20 [00:00<00:00, 52.32it/s]\u001b[A\n",
      "Epoch 3: 100%|█| 255/255 [00:07<00:00, 35.46it/s, loss=2.45, v_num=01, training_loss_step=2.080, training_accuracy_step=0.302, val_loss=2.550, val_\u001b[A\n",
      "Epoch 4:  92%|▉| 235/255 [00:06<00:00, 36.58it/s, loss=2.27, v_num=01, training_loss_step=1.740, training_accuracy_step=0.365, val_loss=2.550, val_\u001b[A\n",
      "Validation: 0it [00:00, ?it/s]\u001b[A\n",
      "Validation:   0%|                                                                                                           | 0/20 [00:00<?, ?it/s]\u001b[A\n",
      "Validation DataLoader 0:   0%|                                                                                              | 0/20 [00:00<?, ?it/s]\u001b[A\n",
      "Epoch 4:  94%|▉| 240/255 [00:06<00:00, 35.47it/s, loss=2.27, v_num=01, training_loss_step=1.740, training_accuracy_step=0.365, val_loss=2.550, val_\u001b[A\n",
      "Validation DataLoader 0:  50%|██████████████████████████████████████████▌                                          | 10/20 [00:00<00:00, 49.64it/s]\u001b[A\n",
      "Epoch 4:  96%|▉| 245/255 [00:06<00:00, 35.64it/s, loss=2.27, v_num=01, training_loss_step=1.740, training_accuracy_step=0.365, val_loss=2.550, val_\u001b[A\n",
      "Validation DataLoader 0:  75%|███████████████████████████████████████████████████████████████▊                     | 15/20 [00:00<00:00, 47.44it/s]\u001b[A\n",
      "Epoch 4:  98%|▉| 250/255 [00:06<00:00, 35.78it/s, loss=2.27, v_num=01, training_loss_step=1.740, training_accuracy_step=0.365, val_loss=2.550, val_\u001b[A\n",
      "Epoch 4: 100%|█| 255/255 [00:07<00:00, 36.00it/s, loss=2.27, v_num=01, training_loss_step=1.740, training_accuracy_step=0.365, val_loss=2.460, val_\u001b[A\n",
      "Epoch 5:  92%|▉| 235/255 [00:06<00:00, 35.91it/s, loss=2.14, v_num=01, training_loss_step=1.590, training_accuracy_step=0.458, val_loss=2.460, val_\u001b[A\n",
      "Validation: 0it [00:00, ?it/s]\u001b[A\n",
      "Validation:   0%|                                                                                                           | 0/20 [00:00<?, ?it/s]\u001b[A\n",
      "Validation DataLoader 0:   0%|                                                                                              | 0/20 [00:00<?, ?it/s]\u001b[A\n",
      "Epoch 5:  94%|▉| 240/255 [00:06<00:00, 34.89it/s, loss=2.14, v_num=01, training_loss_step=1.590, training_accuracy_step=0.458, val_loss=2.460, val_\u001b[A\n",
      "Validation DataLoader 0:  50%|██████████████████████████████████████████▌                                          | 10/20 [00:00<00:00, 51.32it/s]\u001b[A\n",
      "Epoch 5:  96%|▉| 245/255 [00:06<00:00, 35.13it/s, loss=2.14, v_num=01, training_loss_step=1.590, training_accuracy_step=0.458, val_loss=2.460, val_\u001b[A\n",
      "Epoch 5:  98%|▉| 250/255 [00:07<00:00, 35.37it/s, loss=2.14, v_num=01, training_loss_step=1.590, training_accuracy_step=0.458, val_loss=2.460, val_\u001b[A\n",
      "Validation DataLoader 0: 100%|█████████████████████████████████████████████████████████████████████████████████████| 20/20 [00:00<00:00, 52.75it/s]\u001b[A\n",
      "Epoch 5: 100%|█| 255/255 [00:07<00:00, 35.60it/s, loss=2.14, v_num=01, training_loss_step=1.590, training_accuracy_step=0.458, val_loss=2.430, val_\u001b[A\n",
      "Epoch 6:  92%|▉| 235/255 [00:06<00:00, 34.90it/s, loss=2.1, v_num=01, training_loss_step=1.370, training_accuracy_step=0.542, val_loss=2.430, val_a\u001b[A\n",
      "Validation: 0it [00:00, ?it/s]\u001b[A\n",
      "Validation:   0%|                                                                                                           | 0/20 [00:00<?, ?it/s]\u001b[A\n",
      "Validation DataLoader 0:   0%|                                                                                              | 0/20 [00:00<?, ?it/s]\u001b[A\n",
      "Epoch 6:  94%|▉| 240/255 [00:07<00:00, 33.95it/s, loss=2.1, v_num=01, training_loss_step=1.370, training_accuracy_step=0.542, val_loss=2.430, val_a\u001b[A\n",
      "Validation DataLoader 0:  50%|██████████████████████████████████████████▌                                          | 10/20 [00:00<00:00, 51.23it/s]\u001b[A\n",
      "Epoch 6:  96%|▉| 245/255 [00:07<00:00, 34.18it/s, loss=2.1, v_num=01, training_loss_step=1.370, training_accuracy_step=0.542, val_loss=2.430, val_a\u001b[A\n",
      "Epoch 6:  98%|▉| 250/255 [00:07<00:00, 34.41it/s, loss=2.1, v_num=01, training_loss_step=1.370, training_accuracy_step=0.542, val_loss=2.430, val_a\u001b[A\n",
      "Validation DataLoader 0: 100%|█████████████████████████████████████████████████████████████████████████████████████| 20/20 [00:00<00:00, 51.74it/s]\u001b[A\n",
      "Epoch 6: 100%|█| 255/255 [00:07<00:00, 34.64it/s, loss=2.1, v_num=01, training_loss_step=1.370, training_accuracy_step=0.542, val_loss=2.400, val_a\u001b[A\n",
      "Epoch 7:  92%|▉| 235/255 [00:06<00:00, 35.02it/s, loss=1.95, v_num=01, training_loss_step=1.220, training_accuracy_step=0.635, val_loss=2.400, val_\u001b[A\n",
      "Validation: 0it [00:00, ?it/s]\u001b[A\n",
      "Validation:   0%|                                                                                                           | 0/20 [00:00<?, ?it/s]\u001b[A\n",
      "Validation DataLoader 0:   0%|                                                                                              | 0/20 [00:00<?, ?it/s]\u001b[A\n",
      "Epoch 7:  94%|▉| 240/255 [00:07<00:00, 34.00it/s, loss=1.95, v_num=01, training_loss_step=1.220, training_accuracy_step=0.635, val_loss=2.400, val_\u001b[A\n",
      "Validation DataLoader 0:  50%|██████████████████████████████████████████▌                                          | 10/20 [00:00<00:00, 53.49it/s]\u001b[A\n",
      "Epoch 7:  96%|▉| 245/255 [00:07<00:00, 34.26it/s, loss=1.95, v_num=01, training_loss_step=1.220, training_accuracy_step=0.635, val_loss=2.400, val_\u001b[A\n",
      "Epoch 7:  98%|▉| 250/255 [00:07<00:00, 34.50it/s, loss=1.95, v_num=01, training_loss_step=1.220, training_accuracy_step=0.635, val_loss=2.400, val_\u001b[A\n",
      "Validation DataLoader 0: 100%|█████████████████████████████████████████████████████████████████████████████████████| 20/20 [00:00<00:00, 53.17it/s]\u001b[A\n",
      "Epoch 7: 100%|█| 255/255 [00:07<00:00, 34.73it/s, loss=1.95, v_num=01, training_loss_step=1.220, training_accuracy_step=0.635, val_loss=2.370, val_\u001b[A\n",
      "Epoch 8:  92%|▉| 235/255 [00:06<00:00, 35.25it/s, loss=1.86, v_num=01, training_loss_step=1.100, training_accuracy_step=0.708, val_loss=2.370, val_\u001b[A\n",
      "Validation: 0it [00:00, ?it/s]\u001b[A\n",
      "Validation:   0%|                                                                                                           | 0/20 [00:00<?, ?it/s]\u001b[A\n",
      "Validation DataLoader 0:   0%|                                                                                              | 0/20 [00:00<?, ?it/s]\u001b[A\n",
      "Validation DataLoader 0:  25%|█████████████████████▌                                                                | 5/20 [00:00<00:00, 48.18it/s]\u001b[A\n",
      "Epoch 8:  94%|▉| 240/255 [00:07<00:00, 34.21it/s, loss=1.86, v_num=01, training_loss_step=1.100, training_accuracy_step=0.708, val_loss=2.370, val_\u001b[A\n",
      "Epoch 8:  96%|▉| 245/255 [00:07<00:00, 34.48it/s, loss=1.86, v_num=01, training_loss_step=1.100, training_accuracy_step=0.708, val_loss=2.370, val_\u001b[A\n",
      "Validation DataLoader 0:  75%|███████████████████████████████████████████████████████████████▊                     | 15/20 [00:00<00:00, 52.48it/s]\u001b[A\n",
      "Epoch 8:  98%|▉| 250/255 [00:07<00:00, 34.72it/s, loss=1.86, v_num=01, training_loss_step=1.100, training_accuracy_step=0.708, val_loss=2.370, val_\u001b[A\n",
      "Epoch 8: 100%|█| 255/255 [00:07<00:00, 34.94it/s, loss=1.86, v_num=01, training_loss_step=1.100, training_accuracy_step=0.708, val_loss=2.360, val_\u001b[A\n",
      "Epoch 9:  92%|▉| 235/255 [00:06<00:00, 35.66it/s, loss=1.82, v_num=01, training_loss_step=1.050, training_accuracy_step=0.760, val_loss=2.360, val_\u001b[A\n",
      "Validation: 0it [00:00, ?it/s]\u001b[A\n",
      "Validation:   0%|                                                                                                           | 0/20 [00:00<?, ?it/s]\u001b[A\n",
      "Validation DataLoader 0:   0%|                                                                                              | 0/20 [00:00<?, ?it/s]\u001b[A\n",
      "Epoch 9:  94%|▉| 240/255 [00:06<00:00, 34.63it/s, loss=1.82, v_num=01, training_loss_step=1.050, training_accuracy_step=0.760, val_loss=2.360, val_\u001b[A\n",
      "Validation DataLoader 0:  50%|██████████████████████████████████████████▌                                          | 10/20 [00:00<00:00, 53.23it/s]\u001b[A\n",
      "Epoch 9:  96%|▉| 245/255 [00:07<00:00, 34.88it/s, loss=1.82, v_num=01, training_loss_step=1.050, training_accuracy_step=0.760, val_loss=2.360, val_\u001b[A\n",
      "Epoch 9:  98%|▉| 250/255 [00:07<00:00, 35.11it/s, loss=1.82, v_num=01, training_loss_step=1.050, training_accuracy_step=0.760, val_loss=2.360, val_\u001b[A\n",
      "Validation DataLoader 0: 100%|█████████████████████████████████████████████████████████████████████████████████████| 20/20 [00:00<00:00, 52.69it/s]\u001b[A\n",
      "Epoch 9: 100%|█| 255/255 [00:07<00:00, 35.33it/s, loss=1.82, v_num=01, training_loss_step=1.050, training_accuracy_step=0.760, val_loss=2.360, val_\u001b[A\n",
      "Epoch 9: 100%|█| 255/255 [00:07<00:00, 34.95it/s, loss=1.82, v_num=01, training_loss_step=1.050, training_accuracy_step=0.760, val_loss=2.360, val_\u001b[A\n"
     ]
    }
   ],
   "source": [
    "trainer.fit(lit_model, train_loader, test_loader)"
   ]
  },
  {
   "cell_type": "markdown",
   "id": "b9489e66-d370-49d1-9ac7-afa6767a145c",
   "metadata": {},
   "source": [
    "# Export"
   ]
  },
  {
   "cell_type": "code",
   "execution_count": null,
   "id": "07610a0c-d60f-48af-b337-ed407b318caa",
   "metadata": {},
   "outputs": [],
   "source": []
  },
  {
   "cell_type": "code",
   "execution_count": null,
   "id": "ae5ac7ed-a0be-41e4-8905-1bbcfc0f31bd",
   "metadata": {},
   "outputs": [],
   "source": []
  },
  {
   "cell_type": "code",
   "execution_count": null,
   "id": "35afd161-3287-433a-8ff9-2c6833bd1059",
   "metadata": {},
   "outputs": [],
   "source": []
  },
  {
   "cell_type": "code",
   "execution_count": null,
   "id": "f0b441f3",
   "metadata": {},
   "outputs": [],
   "source": []
  },
  {
   "cell_type": "code",
   "execution_count": null,
   "id": "6f9a9bc6-ed25-4421-912b-0aad04466241",
   "metadata": {},
   "outputs": [],
   "source": []
  }
 ],
 "metadata": {
  "kernelspec": {
   "display_name": "Python 3",
   "language": "python",
   "name": "python3"
  },
  "language_info": {
   "codemirror_mode": {
    "name": "ipython",
    "version": 3
   },
   "file_extension": ".py",
   "mimetype": "text/x-python",
   "name": "python",
   "nbconvert_exporter": "python",
   "pygments_lexer": "ipython3",
   "version": "3.9.12"
  },
  "vscode": {
   "interpreter": {
    "hash": "df0893f56f349688326838aaeea0de204df53a132722cbd565e54b24a8fec5f6"
   }
  }
 },
 "nbformat": 4,
 "nbformat_minor": 5
}
