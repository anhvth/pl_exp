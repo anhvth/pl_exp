{
 "cells": [
  {
   "cell_type": "code",
   "execution_count": null,
   "id": "347c25b4-8598-4272-9a15-253ae67e1b77",
   "metadata": {},
   "outputs": [],
   "source": [
    "#|default_exp all"
   ]
  },
  {
   "cell_type": "markdown",
   "id": "081cec4f-3005-412d-bd19-c587fc648d9d",
   "metadata": {},
   "source": [
    "# ALL\n",
    "> API"
   ]
  },
  {
   "cell_type": "code",
   "execution_count": null,
   "id": "77ab9bb6-b136-464e-b107-4eae96408e03",
   "metadata": {},
   "outputs": [
    {
     "ename": "",
     "evalue": "",
     "output_type": "error",
     "traceback": [
      "\u001b[1;31mRunning cells with 'Python 3.8.0 64-bit' requires ipykernel package.\n",
      "Run the following command to install 'ipykernel' into the Python environment. \n",
      "Command: '/usr/bin/python3.8 -m pip install ipykernel -U --user --force-reinstall'"
     ]
    }
   ],
   "source": [
    "#| export\n",
    "from lit_classifier.lit_model import  LitModel, get_optim_cfg, get_trainer, load_lit_state_dict\n",
    "from lit_classifier.loss import FocalLoss, BinaryFocalLoss\n",
    "from lit_classifier.persistance import persistent_class\n",
    "__all__ = ['load_lit_state_dict',\n",
    " 'LitModel',\n",
    " 'get_optim_cfg',\n",
    " 'get_trainer',\n",
    " 'FocalLoss',\n",
    " 'BinaryFocalLoss',\n",
    " 'persistent_class']"
   ]
  },
  {
   "cell_type": "markdown",
   "id": "b6785b71-a422-4654-8f81-280eb20ffcea",
   "metadata": {},
   "source": [
    "# BUILD"
   ]
  },
  {
   "cell_type": "code",
   "execution_count": null,
   "id": "867c6eef-8cca-4917-be98-3cd2eaf3030e",
   "metadata": {},
   "outputs": [
    {
     "name": "stdout",
     "output_type": "stream",
     "text": [
      "Converted 00_all.ipynb.\n",
      "Converted 00_base_model.ipynb.\n",
      "Converted 01_lit_model.ipynb.\n",
      "Converted 02_loss.ipynb.\n",
      "Converted 03_persistance.ipynb.\n"
     ]
    }
   ],
   "source": [
    "!nbdev_build_lib"
   ]
  },
  {
   "cell_type": "code",
   "execution_count": null,
   "id": "5a22119b-e8b5-4a99-9077-ad5c6f11c28f",
   "metadata": {},
   "outputs": [],
   "source": []
  }
 ],
 "metadata": {
  "kernelspec": {
   "display_name": "Python 3.8.0 64-bit",
   "language": "python",
   "name": "python3"
  },
  "language_info": {
   "name": "python",
   "version": "3.8.0"
  },
  "vscode": {
   "interpreter": {
    "hash": "df0893f56f349688326838aaeea0de204df53a132722cbd565e54b24a8fec5f6"
   }
  }
 },
 "nbformat": 4,
 "nbformat_minor": 5
}
