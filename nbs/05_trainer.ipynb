{
 "cells": [
  {
   "cell_type": "code",
   "execution_count": 2,
   "id": "9744c89c-dc3d-448a-9471-e01065b025df",
   "metadata": {},
   "outputs": [],
   "source": [
    "#| default_exp trainer"
   ]
  },
  {
   "cell_type": "markdown",
   "id": "f74841b7-a593-471e-85ac-197f288db31b",
   "metadata": {},
   "source": [
    "# Trainer\n",
    "> Trainer API"
   ]
  },
  {
   "cell_type": "code",
   "execution_count": 13,
   "id": "3f01e273-38e2-46eb-bae8-44e281745429",
   "metadata": {},
   "outputs": [],
   "source": [
    "#| export\n",
    "import os\n",
    "import os.path as osp\n",
    "from argparse import ArgumentParser\n",
    "import mmcv\n",
    "import torch\n",
    "from pytorch_lightning import Trainer, seed_everything\n",
    "from ple.all import get_trainer\n",
    "import shutil\n",
    "from fastcore.script import *\n",
    "from torch.nn.parallel import DistributedDataParallel as DDP\n",
    "import torch.distributed as dist\n",
    "from loguru import logger\n",
    "\n",
    "def get_rank():\n",
    "    try:\n",
    "        rank = dist.get_rank()\n",
    "    except:\n",
    "        rank = 0\n",
    "    return rank\n",
    "\n",
    "def get_exp_by_file(exp_file):\n",
    "    \"\"\"\n",
    "        Params:\n",
    "        exp_file: Path to exp\n",
    "        \n",
    "    \"\"\"\n",
    "    try:\n",
    "        import importlib\n",
    "        import os\n",
    "        import sys\n",
    "        sys.path.append(os.path.dirname(exp_file))\n",
    "        # import ipdb; ipdb.set_trace()\n",
    "        current_exp = importlib.import_module(\n",
    "            os.path.basename(exp_file).split(\".\")[0])\n",
    "        current_exp = importlib.reload(current_exp)\n",
    "        exp = current_exp.Exp()\n",
    "        return exp\n",
    "    except Exception:\n",
    "        raise ImportError(\n",
    "            \"{} doesn't contains class named 'Exp'\".format(exp_file))\n",
    "        \n",
    "@call_parse\n",
    "def train(\n",
    "    cfg_path:Param('Path to config'),\n",
    "    devices: Param('GPUS indices', default=1, type=int),\n",
    "    accelerator: Param('cpu or gpu', default='gpu', type=str),\n",
    "):\n",
    "\n",
    "    cfg = get_exp_by_file(cfg_path)\n",
    "    print(cfg)\n",
    "    exp_name = osp.basename(cfg_path).split('.')[0]\n",
    "\n",
    "    data = cfg.get_data_loader()\n",
    "\n",
    "    model = cfg.get_model(create_lr_scheduler_fn=cfg.get_lr_scheduler(), \n",
    "            create_optimizer_fn=cfg.get_optimizer())\n",
    "    trainer = get_trainer(exp_name,\n",
    "                          devices,\n",
    "                          max_epochs=cfg.max_epochs, \n",
    "                          trainer_kwargs=dict(\n",
    "                              accelerator=accelerator,\n",
    "                          ))\n",
    "    try:\n",
    "        trainer.fit(model, data)\n",
    "    except Exception as e:\n",
    "        import traceback\n",
    "        traceback.print_exc()\n",
    "    finally:\n",
    "        if get_rank() == 0:\n",
    "            out_path = osp.join(trainer.log_dir, osp.basename(cfg_path))\n",
    "            logger.info('cp {} {}', cfg_path, out_path)\n",
    "            shutil.copy(cfg_path, out_path)\n",
    "        \n"
   ]
  },
  {
   "cell_type": "markdown",
   "id": "f5162854-0bfd-49e9-a613-64b126b42d06",
   "metadata": {},
   "source": [
    "## Test"
   ]
  },
  {
   "cell_type": "code",
   "execution_count": 14,
   "id": "9aff1a7f-425c-4255-9b26-4ac9d3aa42bf",
   "metadata": {},
   "outputs": [],
   "source": [
    "#| hide\n",
    "# train('./configs/00_mnist_vanila.py', devices=1)"
   ]
  },
  {
   "cell_type": "code",
   "execution_count": 15,
   "id": "049a2af8-3bb2-4e86-b48a-171ceacef84f",
   "metadata": {},
   "outputs": [],
   "source": [
    "#| hide\n",
    "from nbdev import nbdev_export\n",
    "nbdev_export()"
   ]
  },
  {
   "cell_type": "code",
   "execution_count": null,
   "id": "7aa2ceb1-4ff8-4806-ac09-268d3f1cd217",
   "metadata": {},
   "outputs": [],
   "source": []
  }
 ],
 "metadata": {
  "kernelspec": {
   "display_name": "Python 3",
   "language": "python",
   "name": "python3"
  },
  "language_info": {
   "codemirror_mode": {
    "name": "ipython",
    "version": 3
   },
   "file_extension": ".py",
   "mimetype": "text/x-python",
   "name": "python",
   "nbconvert_exporter": "python",
   "pygments_lexer": "ipython3",
   "version": "3.8.0"
  },
  "vscode": {
   "interpreter": {
    "hash": "df0893f56f349688326838aaeea0de204df53a132722cbd565e54b24a8fec5f6"
   }
  }
 },
 "nbformat": 4,
 "nbformat_minor": 5
}
