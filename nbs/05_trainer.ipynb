{
 "cells": [
  {
   "cell_type": "code",
   "execution_count": null,
   "id": "9744c89c-dc3d-448a-9471-e01065b025df",
   "metadata": {},
   "outputs": [],
   "source": [
    "#| default_exp trainer"
   ]
  },
  {
   "cell_type": "markdown",
   "id": "f74841b7-a593-471e-85ac-197f288db31b",
   "metadata": {},
   "source": [
    "# Trainer\n",
    "> Trainer API"
   ]
  },
  {
   "cell_type": "code",
   "execution_count": null,
   "id": "3f01e273-38e2-46eb-bae8-44e281745429",
   "metadata": {},
   "outputs": [],
   "source": [
    "#| export\n",
    "import os\n",
    "import os.path as osp\n",
    "from argparse import ArgumentParser\n",
    "import mmcv\n",
    "import torch\n",
    "from pytorch_lightning import Trainer, seed_everything\n",
    "from lit_classifier.all import get_trainer\n",
    "import shutil\n",
    "from fastcore.script import *\n",
    "\n",
    "\n",
    "def get_exp_by_file(exp_file):\n",
    "    \"\"\"\n",
    "        Params:\n",
    "        exp_file: Path to exp\n",
    "        \n",
    "    \"\"\"\n",
    "    try:\n",
    "        import importlib\n",
    "        import os\n",
    "        import sys\n",
    "        sys.path.append(os.path.dirname(exp_file))\n",
    "        # import ipdb; ipdb.set_trace()\n",
    "        current_exp = importlib.import_module(\n",
    "            os.path.basename(exp_file).split(\".\")[0])\n",
    "        current_exp = importlib.reload(current_exp)\n",
    "        exp = current_exp.Exp()\n",
    "        return exp\n",
    "    except Exception:\n",
    "        raise ImportError(\n",
    "            \"{} doesn't contains class named 'Exp'\".format(exp_file))\n",
    "        \n",
    "@call_parse\n",
    "def train(\n",
    "    cfg_path:Param('Path to config'),\n",
    "    devices: Param('GPUS indices', default=1, type=int),\n",
    "):\n",
    "    cfg = get_exp_by_file(cfg_path)\n",
    "    print(cfg)\n",
    "    exp_name = osp.basename(cfg_path).split('.')[0]\n",
    "\n",
    "    data = cfg.get_data_loader()\n",
    "\n",
    "    model = cfg.get_model(create_lr_scheduler_fn=cfg.get_lr_scheduler(), \n",
    "            create_optimizer_fn=cfg.get_optimizer())\n",
    "    trainer = get_trainer(exp_name,\n",
    "                          devices,\n",
    "                          distributed=devices > 1,\n",
    "                          max_epochs=cfg.max_epochs)\n",
    "\n",
    "    mmcv.mkdir_or_exist(trainer.log_dir)\n",
    "    shutil.copy(cfg_path, osp.join(trainer.log_dir, osp.basename(cfg_path)))\n",
    "    trainer.fit(model, data)\n"
   ]
  },
  {
   "cell_type": "markdown",
   "id": "f5162854-0bfd-49e9-a613-64b126b42d06",
   "metadata": {},
   "source": [
    "## Test"
   ]
  },
  {
   "cell_type": "code",
   "execution_count": null,
   "id": "9aff1a7f-425c-4255-9b26-4ac9d3aa42bf",
   "metadata": {},
   "outputs": [],
   "source": [
    "#| hide\n",
    "# train('./configs/00_mnist_vanila.py', devices=1)"
   ]
  },
  {
   "cell_type": "code",
   "execution_count": null,
   "id": "049a2af8-3bb2-4e86-b48a-171ceacef84f",
   "metadata": {},
   "outputs": [
    {
     "name": "stdout",
     "output_type": "stream",
     "text": [
      "Obtaining file:///home/anhvth/gitprojects/litclassifier\n",
      "Requirement already satisfied: pip in /home/anhvth/miniconda3/lib/python3.9/site-packages (from lit-classifier==0.0.2) (21.2.4)\n",
      "Requirement already satisfied: packaging in /home/anhvth/miniconda3/lib/python3.9/site-packages (from lit-classifier==0.0.2) (21.3)\n",
      "Requirement already satisfied: timm in /home/anhvth/miniconda3/lib/python3.9/site-packages (from lit-classifier==0.0.2) (0.6.7)\n",
      "Requirement already satisfied: pytorch_lightning in /home/anhvth/miniconda3/lib/python3.9/site-packages (from lit-classifier==0.0.2) (1.6.5)\n",
      "Requirement already satisfied: loguru in /home/anhvth/miniconda3/lib/python3.9/site-packages (from lit-classifier==0.0.2) (0.6.0)\n",
      "Requirement already satisfied: mmcv in /home/anhvth/miniconda3/lib/python3.9/site-packages (from lit-classifier==0.0.2) (1.6.1)\n",
      "Requirement already satisfied: tabulate in /home/anhvth/miniconda3/lib/python3.9/site-packages (from lit-classifier==0.0.2) (0.8.10)\n",
      "Requirement already satisfied: Pillow in /home/anhvth/miniconda3/lib/python3.9/site-packages (from mmcv->lit-classifier==0.0.2) (8.2.0)\n",
      "Requirement already satisfied: opencv-python>=3 in /home/anhvth/miniconda3/lib/python3.9/site-packages (from mmcv->lit-classifier==0.0.2) (4.6.0.66)\n",
      "Requirement already satisfied: numpy in /home/anhvth/miniconda3/lib/python3.9/site-packages (from mmcv->lit-classifier==0.0.2) (1.22.3)\n",
      "Requirement already satisfied: addict in /home/anhvth/miniconda3/lib/python3.9/site-packages (from mmcv->lit-classifier==0.0.2) (2.4.0)\n",
      "Requirement already satisfied: pyyaml in /home/anhvth/miniconda3/lib/python3.9/site-packages (from mmcv->lit-classifier==0.0.2) (6.0)\n",
      "Requirement already satisfied: yapf in /home/anhvth/miniconda3/lib/python3.9/site-packages (from mmcv->lit-classifier==0.0.2) (0.32.0)\n",
      "Requirement already satisfied: pyparsing!=3.0.5,>=2.0.2 in /home/anhvth/miniconda3/lib/python3.9/site-packages (from packaging->lit-classifier==0.0.2) (3.0.9)\n",
      "Requirement already satisfied: torch>=1.8.* in /home/anhvth/miniconda3/lib/python3.9/site-packages (from pytorch_lightning->lit-classifier==0.0.2) (1.12.0)\n",
      "Requirement already satisfied: tensorboard>=2.2.0 in /home/anhvth/miniconda3/lib/python3.9/site-packages (from pytorch_lightning->lit-classifier==0.0.2) (2.9.1)\n",
      "Requirement already satisfied: pyDeprecate>=0.3.1 in /home/anhvth/miniconda3/lib/python3.9/site-packages (from pytorch_lightning->lit-classifier==0.0.2) (0.3.2)\n",
      "Requirement already satisfied: tqdm>=4.57.0 in /home/anhvth/miniconda3/lib/python3.9/site-packages (from pytorch_lightning->lit-classifier==0.0.2) (4.63.0)\n",
      "Requirement already satisfied: fsspec[http]!=2021.06.0,>=2021.05.0 in /home/anhvth/miniconda3/lib/python3.9/site-packages (from pytorch_lightning->lit-classifier==0.0.2) (2022.7.1)\n",
      "Requirement already satisfied: protobuf<=3.20.1 in /home/anhvth/miniconda3/lib/python3.9/site-packages (from pytorch_lightning->lit-classifier==0.0.2) (3.19.4)\n",
      "Requirement already satisfied: typing-extensions>=4.0.0 in /home/anhvth/miniconda3/lib/python3.9/site-packages (from pytorch_lightning->lit-classifier==0.0.2) (4.3.0)\n",
      "Requirement already satisfied: torchmetrics>=0.4.1 in /home/anhvth/miniconda3/lib/python3.9/site-packages (from pytorch_lightning->lit-classifier==0.0.2) (0.9.3)\n",
      "Requirement already satisfied: aiohttp in /home/anhvth/miniconda3/lib/python3.9/site-packages (from fsspec[http]!=2021.06.0,>=2021.05.0->pytorch_lightning->lit-classifier==0.0.2) (3.8.1)\n",
      "Requirement already satisfied: requests in /home/anhvth/miniconda3/lib/python3.9/site-packages (from fsspec[http]!=2021.06.0,>=2021.05.0->pytorch_lightning->lit-classifier==0.0.2) (2.27.1)\n",
      "Requirement already satisfied: werkzeug>=1.0.1 in /home/anhvth/miniconda3/lib/python3.9/site-packages (from tensorboard>=2.2.0->pytorch_lightning->lit-classifier==0.0.2) (2.2.1)\n",
      "Requirement already satisfied: google-auth<3,>=1.6.3 in /home/anhvth/miniconda3/lib/python3.9/site-packages (from tensorboard>=2.2.0->pytorch_lightning->lit-classifier==0.0.2) (2.9.1)\n",
      "Requirement already satisfied: wheel>=0.26 in /home/anhvth/miniconda3/lib/python3.9/site-packages (from tensorboard>=2.2.0->pytorch_lightning->lit-classifier==0.0.2) (0.37.1)\n",
      "Requirement already satisfied: tensorboard-data-server<0.7.0,>=0.6.0 in /home/anhvth/miniconda3/lib/python3.9/site-packages (from tensorboard>=2.2.0->pytorch_lightning->lit-classifier==0.0.2) (0.6.1)\n",
      "Requirement already satisfied: google-auth-oauthlib<0.5,>=0.4.1 in /home/anhvth/miniconda3/lib/python3.9/site-packages (from tensorboard>=2.2.0->pytorch_lightning->lit-classifier==0.0.2) (0.4.6)\n",
      "Requirement already satisfied: tensorboard-plugin-wit>=1.6.0 in /home/anhvth/miniconda3/lib/python3.9/site-packages (from tensorboard>=2.2.0->pytorch_lightning->lit-classifier==0.0.2) (1.8.1)\n",
      "Requirement already satisfied: markdown>=2.6.8 in /home/anhvth/miniconda3/lib/python3.9/site-packages (from tensorboard>=2.2.0->pytorch_lightning->lit-classifier==0.0.2) (3.4.1)\n",
      "Requirement already satisfied: grpcio>=1.24.3 in /home/anhvth/miniconda3/lib/python3.9/site-packages (from tensorboard>=2.2.0->pytorch_lightning->lit-classifier==0.0.2) (1.48.0)\n",
      "Requirement already satisfied: absl-py>=0.4 in /home/anhvth/miniconda3/lib/python3.9/site-packages (from tensorboard>=2.2.0->pytorch_lightning->lit-classifier==0.0.2) (1.2.0)\n",
      "Requirement already satisfied: setuptools>=41.0.0 in /home/anhvth/miniconda3/lib/python3.9/site-packages (from tensorboard>=2.2.0->pytorch_lightning->lit-classifier==0.0.2) (61.2.0)\n",
      "Requirement already satisfied: cachetools<6.0,>=2.0.0 in /home/anhvth/miniconda3/lib/python3.9/site-packages (from google-auth<3,>=1.6.3->tensorboard>=2.2.0->pytorch_lightning->lit-classifier==0.0.2) (5.2.0)\n",
      "Requirement already satisfied: rsa<5,>=3.1.4 in /home/anhvth/miniconda3/lib/python3.9/site-packages (from google-auth<3,>=1.6.3->tensorboard>=2.2.0->pytorch_lightning->lit-classifier==0.0.2) (4.9)\n",
      "Requirement already satisfied: six>=1.9.0 in /home/anhvth/miniconda3/lib/python3.9/site-packages (from google-auth<3,>=1.6.3->tensorboard>=2.2.0->pytorch_lightning->lit-classifier==0.0.2) (1.16.0)\n",
      "Requirement already satisfied: pyasn1-modules>=0.2.1 in /home/anhvth/miniconda3/lib/python3.9/site-packages (from google-auth<3,>=1.6.3->tensorboard>=2.2.0->pytorch_lightning->lit-classifier==0.0.2) (0.2.8)\n",
      "Requirement already satisfied: requests-oauthlib>=0.7.0 in /home/anhvth/miniconda3/lib/python3.9/site-packages (from google-auth-oauthlib<0.5,>=0.4.1->tensorboard>=2.2.0->pytorch_lightning->lit-classifier==0.0.2) (1.3.1)\n",
      "Requirement already satisfied: importlib-metadata>=4.4 in /home/anhvth/miniconda3/lib/python3.9/site-packages (from markdown>=2.6.8->tensorboard>=2.2.0->pytorch_lightning->lit-classifier==0.0.2) (4.12.0)\n",
      "Requirement already satisfied: zipp>=0.5 in /home/anhvth/miniconda3/lib/python3.9/site-packages (from importlib-metadata>=4.4->markdown>=2.6.8->tensorboard>=2.2.0->pytorch_lightning->lit-classifier==0.0.2) (3.8.1)\n",
      "Requirement already satisfied: pyasn1<0.5.0,>=0.4.6 in /home/anhvth/miniconda3/lib/python3.9/site-packages (from pyasn1-modules>=0.2.1->google-auth<3,>=1.6.3->tensorboard>=2.2.0->pytorch_lightning->lit-classifier==0.0.2) (0.4.8)\n",
      "Requirement already satisfied: idna<4,>=2.5 in /home/anhvth/miniconda3/lib/python3.9/site-packages (from requests->fsspec[http]!=2021.06.0,>=2021.05.0->pytorch_lightning->lit-classifier==0.0.2) (3.3)\n",
      "Requirement already satisfied: charset-normalizer~=2.0.0 in /home/anhvth/miniconda3/lib/python3.9/site-packages (from requests->fsspec[http]!=2021.06.0,>=2021.05.0->pytorch_lightning->lit-classifier==0.0.2) (2.0.4)\n",
      "Requirement already satisfied: certifi>=2017.4.17 in /home/anhvth/miniconda3/lib/python3.9/site-packages (from requests->fsspec[http]!=2021.06.0,>=2021.05.0->pytorch_lightning->lit-classifier==0.0.2) (2022.6.15)\n",
      "Requirement already satisfied: urllib3<1.27,>=1.21.1 in /home/anhvth/miniconda3/lib/python3.9/site-packages (from requests->fsspec[http]!=2021.06.0,>=2021.05.0->pytorch_lightning->lit-classifier==0.0.2) (1.26.8)\n",
      "Requirement already satisfied: oauthlib>=3.0.0 in /home/anhvth/miniconda3/lib/python3.9/site-packages (from requests-oauthlib>=0.7.0->google-auth-oauthlib<0.5,>=0.4.1->tensorboard>=2.2.0->pytorch_lightning->lit-classifier==0.0.2) (3.2.0)\n",
      "Requirement already satisfied: MarkupSafe>=2.1.1 in /home/anhvth/miniconda3/lib/python3.9/site-packages (from werkzeug>=1.0.1->tensorboard>=2.2.0->pytorch_lightning->lit-classifier==0.0.2) (2.1.1)\n",
      "Requirement already satisfied: multidict<7.0,>=4.5 in /home/anhvth/miniconda3/lib/python3.9/site-packages (from aiohttp->fsspec[http]!=2021.06.0,>=2021.05.0->pytorch_lightning->lit-classifier==0.0.2) (6.0.2)\n",
      "Requirement already satisfied: aiosignal>=1.1.2 in /home/anhvth/miniconda3/lib/python3.9/site-packages (from aiohttp->fsspec[http]!=2021.06.0,>=2021.05.0->pytorch_lightning->lit-classifier==0.0.2) (1.2.0)\n",
      "Requirement already satisfied: async-timeout<5.0,>=4.0.0a3 in /home/anhvth/miniconda3/lib/python3.9/site-packages (from aiohttp->fsspec[http]!=2021.06.0,>=2021.05.0->pytorch_lightning->lit-classifier==0.0.2) (4.0.2)\n",
      "Requirement already satisfied: frozenlist>=1.1.1 in /home/anhvth/miniconda3/lib/python3.9/site-packages (from aiohttp->fsspec[http]!=2021.06.0,>=2021.05.0->pytorch_lightning->lit-classifier==0.0.2) (1.3.0)\n",
      "Requirement already satisfied: attrs>=17.3.0 in /home/anhvth/miniconda3/lib/python3.9/site-packages (from aiohttp->fsspec[http]!=2021.06.0,>=2021.05.0->pytorch_lightning->lit-classifier==0.0.2) (22.1.0)\n",
      "Requirement already satisfied: yarl<2.0,>=1.0 in /home/anhvth/miniconda3/lib/python3.9/site-packages (from aiohttp->fsspec[http]!=2021.06.0,>=2021.05.0->pytorch_lightning->lit-classifier==0.0.2) (1.7.2)\n",
      "Requirement already satisfied: torchvision in /home/anhvth/miniconda3/lib/python3.9/site-packages (from timm->lit-classifier==0.0.2) (0.13.0)\n",
      "Installing collected packages: lit-classifier\n",
      "  Attempting uninstall: lit-classifier\n",
      "    Found existing installation: lit-classifier 0.0.2\n",
      "    Uninstalling lit-classifier-0.0.2:\n",
      "      Successfully uninstalled lit-classifier-0.0.2\n",
      "  Running setup.py develop for lit-classifier\n",
      "Successfully installed lit-classifier-0.0.2\n"
     ]
    }
   ],
   "source": [
    "#| hide\n",
    "from nbdev import nbdev_export\n",
    "nbdev_export()\n",
    "!pip install -e ../"
   ]
  },
  {
   "cell_type": "code",
   "execution_count": null,
   "id": "7aa2ceb1-4ff8-4806-ac09-268d3f1cd217",
   "metadata": {},
   "outputs": [],
   "source": []
  }
 ],
 "metadata": {
  "kernelspec": {
   "display_name": "Python 3",
   "language": "python",
   "name": "python3"
  }
 },
 "nbformat": 4,
 "nbformat_minor": 5
}
