{
 "cells": [
  {
   "cell_type": "code",
   "execution_count": null,
   "id": "9744c89c-dc3d-448a-9471-e01065b025df",
   "metadata": {},
   "outputs": [],
   "source": [
    "#| default_exp trainer"
   ]
  },
  {
   "cell_type": "markdown",
   "id": "f74841b7-a593-471e-85ac-197f288db31b",
   "metadata": {},
   "source": [
    "# Trainer\n",
    "> Trainer API"
   ]
  },
  {
   "cell_type": "code",
   "execution_count": null,
   "id": "3f01e273-38e2-46eb-bae8-44e281745429",
   "metadata": {},
   "outputs": [],
   "source": [
    "#| export\n",
    "import os\n",
    "import os.path as osp\n",
    "from argparse import ArgumentParser\n",
    "import mmcv\n",
    "import torch\n",
    "from pytorch_lightning import Trainer, seed_everything\n",
    "from lit_classifier.all import get_trainer\n",
    "import shutil\n",
    "from fastcore.script import *\n",
    "\n",
    "def get_exp_by_file(exp_file):\n",
    "    \"\"\"\n",
    "        Copy from https://github.com/Megvii-BaseDetection/YOLOX/blob/a5bb5ab12a61b8a25a5c3c11ae6f06397eb9b296/yolox/exp/build.py\n",
    "    \"\"\"\n",
    "    try:\n",
    "        import importlib\n",
    "        import os\n",
    "        import sys\n",
    "        sys.path.append(os.path.dirname(exp_file))\n",
    "        # import ipdb; ipdb.set_trace()\n",
    "        current_exp = importlib.import_module(\n",
    "            os.path.basename(exp_file).split(\".\")[0])\n",
    "        current_exp = importlib.reload(current_exp)\n",
    "        exp = current_exp.Exp()\n",
    "        return exp\n",
    "    except Exception:\n",
    "        raise ImportError(\n",
    "            \"{} doesn't contains class named 'Exp'\".format(exp_file))\n",
    "        \n",
    "@call_parse\n",
    "def train(\n",
    "    cfg_path:Param('Path to config'),\n",
    "    devices: Param('GPUS indices', default=1, type=int),\n",
    "):\n",
    "    cfg = get_exp_by_file(cfg_path)\n",
    "    print(cfg)\n",
    "    exp_name = osp.basename(cfg_path).split('.')[0]\n",
    "\n",
    "    data = cfg.get_data_loader()\n",
    "\n",
    "    model = cfg.get_model(create_lr_scheduler_fn=cfg.get_lr_scheduler(), \n",
    "            create_optimizer_fn=cfg.get_optimizer())\n",
    "    trainer = get_trainer(exp_name,\n",
    "                          devices,\n",
    "                          distributed=devices > 1,\n",
    "                          max_epochs=max_epochs)\n",
    "\n",
    "    # import ipdb; ipdb.set_trace()\n",
    "    mmcv.mkdir_or_exist(trainer.log_dir)\n",
    "    shutil.copy(cfg_path, osp.join(trainer.log_dir, osp.basename(cfg_path)))\n",
    "    trainer.fit(model, data)\n"
   ]
  },
  {
   "cell_type": "markdown",
   "id": "f5162854-0bfd-49e9-a613-64b126b42d06",
   "metadata": {},
   "source": [
    "## Test"
   ]
  },
  {
   "cell_type": "code",
   "execution_count": null,
   "id": "9aff1a7f-425c-4255-9b26-4ac9d3aa42bf",
   "metadata": {},
   "outputs": [
    {
     "name": "stderr",
     "output_type": "stream",
     "text": [
      "2022-07-31 18:00:59.934 | INFO     | lit_classifier.lit_model:fn_schedule_cosine_with_warmpup_decay_timm:78 - num_cycles=3\n",
      "No pretrained weights exist or were found for this model. Using random initialization.\n",
      "2022-07-31 18:00:59.957 | INFO     | lit_classifier.lit_model:get_trainer:164 - Root log directory: lightning_logs/00_mnist_vanila/06\n"
     ]
    },
    {
     "name": "stdout",
     "output_type": "stream",
     "text": [
      "╒════════════════╤═══════════════════╕\n",
      "│ keys           │ values            │\n",
      "╞════════════════╪═══════════════════╡\n",
      "│ seed           │ None              │\n",
      "├────────────────┼───────────────────┤\n",
      "│ output_dir     │ './YOLOX_outputs' │\n",
      "├────────────────┼───────────────────┤\n",
      "│ print_interval │ 100               │\n",
      "├────────────────┼───────────────────┤\n",
      "│ eval_interval  │ 10                │\n",
      "├────────────────┼───────────────────┤\n",
      "│ max_epochs     │ 20                │\n",
      "├────────────────┼───────────────────┤\n",
      "│ lr             │ 0.15              │\n",
      "├────────────────┼───────────────────┤\n",
      "│ batch_size     │ 128               │\n",
      "├────────────────┼───────────────────┤\n",
      "│ num_lr_cycles  │ 3                 │\n",
      "╘════════════════╧═══════════════════╛\n"
     ]
    },
    {
     "name": "stderr",
     "output_type": "stream",
     "text": [
      "GPU available: True, used: True\n",
      "TPU available: False, using: 0 TPU cores\n",
      "IPU available: False, using: 0 IPUs\n",
      "HPU available: False, using: 0 HPUs\n"
     ]
    },
    {
     "ename": "FileNotFoundError",
     "evalue": "[Errno 2] No such file or directory: '../configs/00_mnist_vanila.py'",
     "output_type": "error",
     "traceback": [
      "\u001b[0;31m---------------------------------------------------------------------------\u001b[0m",
      "\u001b[0;31mFileNotFoundError\u001b[0m                         Traceback (most recent call last)",
      "Input \u001b[0;32mIn [52]\u001b[0m, in \u001b[0;36m<cell line: 2>\u001b[0;34m()\u001b[0m\n\u001b[1;32m      1\u001b[0m \u001b[38;5;66;03m#| hide\u001b[39;00m\n\u001b[0;32m----> 2\u001b[0m \u001b[43mtrain\u001b[49m\u001b[43m(\u001b[49m\u001b[38;5;124;43m'\u001b[39;49m\u001b[38;5;124;43m../configs/00_mnist_vanila.py\u001b[39;49m\u001b[38;5;124;43m'\u001b[39;49m\u001b[43m,\u001b[49m\u001b[43m \u001b[49m\u001b[43mdevices\u001b[49m\u001b[38;5;241;43m=\u001b[39;49m\u001b[38;5;241;43m1\u001b[39;49m\u001b[43m)\u001b[49m\n",
      "File \u001b[0;32m~/miniconda3/lib/python3.9/site-packages/fastcore/script.py:107\u001b[0m, in \u001b[0;36mcall_parse.<locals>._f\u001b[0;34m(*args, **kwargs)\u001b[0m\n\u001b[1;32m    104\u001b[0m \u001b[38;5;129m@wraps\u001b[39m(func)\n\u001b[1;32m    105\u001b[0m \u001b[38;5;28;01mdef\u001b[39;00m \u001b[38;5;21m_f\u001b[39m(\u001b[38;5;241m*\u001b[39margs, \u001b[38;5;241m*\u001b[39m\u001b[38;5;241m*\u001b[39mkwargs):\n\u001b[1;32m    106\u001b[0m     mod \u001b[38;5;241m=\u001b[39m inspect\u001b[38;5;241m.\u001b[39mgetmodule(inspect\u001b[38;5;241m.\u001b[39mcurrentframe()\u001b[38;5;241m.\u001b[39mf_back)\n\u001b[0;32m--> 107\u001b[0m     \u001b[38;5;28;01mif\u001b[39;00m \u001b[38;5;129;01mnot\u001b[39;00m mod: \u001b[38;5;28;01mreturn\u001b[39;00m \u001b[43mfunc\u001b[49m\u001b[43m(\u001b[49m\u001b[38;5;241;43m*\u001b[39;49m\u001b[43margs\u001b[49m\u001b[43m,\u001b[49m\u001b[43m \u001b[49m\u001b[38;5;241;43m*\u001b[39;49m\u001b[38;5;241;43m*\u001b[39;49m\u001b[43mkwargs\u001b[49m\u001b[43m)\u001b[49m\n\u001b[1;32m    108\u001b[0m     \u001b[38;5;28;01mif\u001b[39;00m \u001b[38;5;129;01mnot\u001b[39;00m SCRIPT_INFO\u001b[38;5;241m.\u001b[39mfunc \u001b[38;5;129;01mand\u001b[39;00m mod\u001b[38;5;241m.\u001b[39m\u001b[38;5;18m__name__\u001b[39m\u001b[38;5;241m==\u001b[39m\u001b[38;5;124m\"\u001b[39m\u001b[38;5;124m__main__\u001b[39m\u001b[38;5;124m\"\u001b[39m: SCRIPT_INFO\u001b[38;5;241m.\u001b[39mfunc \u001b[38;5;241m=\u001b[39m func\u001b[38;5;241m.\u001b[39m\u001b[38;5;18m__name__\u001b[39m\n\u001b[1;32m    109\u001b[0m     \u001b[38;5;28;01mif\u001b[39;00m \u001b[38;5;28mlen\u001b[39m(sys\u001b[38;5;241m.\u001b[39margv)\u001b[38;5;241m>\u001b[39m\u001b[38;5;241m1\u001b[39m \u001b[38;5;129;01mand\u001b[39;00m sys\u001b[38;5;241m.\u001b[39margv[\u001b[38;5;241m1\u001b[39m]\u001b[38;5;241m==\u001b[39m\u001b[38;5;124m'\u001b[39m\u001b[38;5;124m'\u001b[39m: sys\u001b[38;5;241m.\u001b[39margv\u001b[38;5;241m.\u001b[39mpop(\u001b[38;5;241m1\u001b[39m)\n",
      "Input \u001b[0;32mIn [48]\u001b[0m, in \u001b[0;36mtrain\u001b[0;34m(cfg_path, devices)\u001b[0m\n\u001b[1;32m     49\u001b[0m \u001b[38;5;66;03m# import ipdb; ipdb.set_trace()\u001b[39;00m\n\u001b[1;32m     50\u001b[0m mmcv\u001b[38;5;241m.\u001b[39mmkdir_or_exist(trainer\u001b[38;5;241m.\u001b[39mlog_dir)\n\u001b[0;32m---> 51\u001b[0m \u001b[43mshutil\u001b[49m\u001b[38;5;241;43m.\u001b[39;49m\u001b[43mcopy\u001b[49m\u001b[43m(\u001b[49m\u001b[43mcfg_path\u001b[49m\u001b[43m,\u001b[49m\u001b[43m \u001b[49m\u001b[43mosp\u001b[49m\u001b[38;5;241;43m.\u001b[39;49m\u001b[43mjoin\u001b[49m\u001b[43m(\u001b[49m\u001b[43mtrainer\u001b[49m\u001b[38;5;241;43m.\u001b[39;49m\u001b[43mlog_dir\u001b[49m\u001b[43m,\u001b[49m\u001b[43m \u001b[49m\u001b[43mosp\u001b[49m\u001b[38;5;241;43m.\u001b[39;49m\u001b[43mbasename\u001b[49m\u001b[43m(\u001b[49m\u001b[43mcfg_path\u001b[49m\u001b[43m)\u001b[49m\u001b[43m)\u001b[49m\u001b[43m)\u001b[49m\n\u001b[1;32m     52\u001b[0m trainer\u001b[38;5;241m.\u001b[39mfit(model, data)\n",
      "File \u001b[0;32m~/miniconda3/lib/python3.9/shutil.py:427\u001b[0m, in \u001b[0;36mcopy\u001b[0;34m(src, dst, follow_symlinks)\u001b[0m\n\u001b[1;32m    425\u001b[0m \u001b[38;5;28;01mif\u001b[39;00m os\u001b[38;5;241m.\u001b[39mpath\u001b[38;5;241m.\u001b[39misdir(dst):\n\u001b[1;32m    426\u001b[0m     dst \u001b[38;5;241m=\u001b[39m os\u001b[38;5;241m.\u001b[39mpath\u001b[38;5;241m.\u001b[39mjoin(dst, os\u001b[38;5;241m.\u001b[39mpath\u001b[38;5;241m.\u001b[39mbasename(src))\n\u001b[0;32m--> 427\u001b[0m \u001b[43mcopyfile\u001b[49m\u001b[43m(\u001b[49m\u001b[43msrc\u001b[49m\u001b[43m,\u001b[49m\u001b[43m \u001b[49m\u001b[43mdst\u001b[49m\u001b[43m,\u001b[49m\u001b[43m \u001b[49m\u001b[43mfollow_symlinks\u001b[49m\u001b[38;5;241;43m=\u001b[39;49m\u001b[43mfollow_symlinks\u001b[49m\u001b[43m)\u001b[49m\n\u001b[1;32m    428\u001b[0m copymode(src, dst, follow_symlinks\u001b[38;5;241m=\u001b[39mfollow_symlinks)\n\u001b[1;32m    429\u001b[0m \u001b[38;5;28;01mreturn\u001b[39;00m dst\n",
      "File \u001b[0;32m~/miniconda3/lib/python3.9/shutil.py:264\u001b[0m, in \u001b[0;36mcopyfile\u001b[0;34m(src, dst, follow_symlinks)\u001b[0m\n\u001b[1;32m    262\u001b[0m     os\u001b[38;5;241m.\u001b[39msymlink(os\u001b[38;5;241m.\u001b[39mreadlink(src), dst)\n\u001b[1;32m    263\u001b[0m \u001b[38;5;28;01melse\u001b[39;00m:\n\u001b[0;32m--> 264\u001b[0m     \u001b[38;5;28;01mwith\u001b[39;00m \u001b[38;5;28;43mopen\u001b[39;49m\u001b[43m(\u001b[49m\u001b[43msrc\u001b[49m\u001b[43m,\u001b[49m\u001b[43m \u001b[49m\u001b[38;5;124;43m'\u001b[39;49m\u001b[38;5;124;43mrb\u001b[39;49m\u001b[38;5;124;43m'\u001b[39;49m\u001b[43m)\u001b[49m \u001b[38;5;28;01mas\u001b[39;00m fsrc:\n\u001b[1;32m    265\u001b[0m         \u001b[38;5;28;01mtry\u001b[39;00m:\n\u001b[1;32m    266\u001b[0m             \u001b[38;5;28;01mwith\u001b[39;00m \u001b[38;5;28mopen\u001b[39m(dst, \u001b[38;5;124m'\u001b[39m\u001b[38;5;124mwb\u001b[39m\u001b[38;5;124m'\u001b[39m) \u001b[38;5;28;01mas\u001b[39;00m fdst:\n\u001b[1;32m    267\u001b[0m                 \u001b[38;5;66;03m# macOS\u001b[39;00m\n",
      "\u001b[0;31mFileNotFoundError\u001b[0m: [Errno 2] No such file or directory: '../configs/00_mnist_vanila.py'"
     ]
    }
   ],
   "source": [
    "#| hide\n",
    "train('../configs/00_mnist_vanila.py', devices=1)"
   ]
  },
  {
   "cell_type": "code",
   "execution_count": null,
   "id": "049a2af8-3bb2-4e86-b48a-171ceacef84f",
   "metadata": {},
   "outputs": [
    {
     "name": "stdout",
     "output_type": "stream",
     "text": [
      "Obtaining file:///home/anhvth/gitprojects/litclassifier\n",
      "Requirement already satisfied: pip in /home/anhvth/miniconda3/lib/python3.9/site-packages (from lit-classifier==0.0.2) (21.2.4)\n",
      "Requirement already satisfied: packaging in /home/anhvth/miniconda3/lib/python3.9/site-packages (from lit-classifier==0.0.2) (21.3)\n",
      "Requirement already satisfied: timm in /home/anhvth/miniconda3/lib/python3.9/site-packages (from lit-classifier==0.0.2) (0.6.7)\n",
      "Requirement already satisfied: pytorch_lightning in /home/anhvth/miniconda3/lib/python3.9/site-packages (from lit-classifier==0.0.2) (1.6.5)\n",
      "Requirement already satisfied: loguru in /home/anhvth/miniconda3/lib/python3.9/site-packages (from lit-classifier==0.0.2) (0.6.0)\n",
      "Requirement already satisfied: mmcv in /home/anhvth/miniconda3/lib/python3.9/site-packages (from lit-classifier==0.0.2) (1.6.1)\n",
      "Requirement already satisfied: tabulate in /home/anhvth/miniconda3/lib/python3.9/site-packages (from lit-classifier==0.0.2) (0.8.10)\n",
      "Requirement already satisfied: opencv-python>=3 in /home/anhvth/miniconda3/lib/python3.9/site-packages (from mmcv->lit-classifier==0.0.2) (4.6.0.66)\n",
      "Requirement already satisfied: pyyaml in /home/anhvth/miniconda3/lib/python3.9/site-packages (from mmcv->lit-classifier==0.0.2) (6.0)\n",
      "Requirement already satisfied: Pillow in /home/anhvth/miniconda3/lib/python3.9/site-packages (from mmcv->lit-classifier==0.0.2) (8.2.0)\n",
      "Requirement already satisfied: addict in /home/anhvth/miniconda3/lib/python3.9/site-packages (from mmcv->lit-classifier==0.0.2) (2.4.0)\n",
      "Requirement already satisfied: yapf in /home/anhvth/miniconda3/lib/python3.9/site-packages (from mmcv->lit-classifier==0.0.2) (0.32.0)\n",
      "Requirement already satisfied: numpy in /home/anhvth/miniconda3/lib/python3.9/site-packages (from mmcv->lit-classifier==0.0.2) (1.22.3)\n",
      "Requirement already satisfied: pyparsing!=3.0.5,>=2.0.2 in /home/anhvth/miniconda3/lib/python3.9/site-packages (from packaging->lit-classifier==0.0.2) (3.0.9)\n",
      "Requirement already satisfied: pyDeprecate>=0.3.1 in /home/anhvth/miniconda3/lib/python3.9/site-packages (from pytorch_lightning->lit-classifier==0.0.2) (0.3.2)\n",
      "Requirement already satisfied: typing-extensions>=4.0.0 in /home/anhvth/miniconda3/lib/python3.9/site-packages (from pytorch_lightning->lit-classifier==0.0.2) (4.3.0)\n",
      "Requirement already satisfied: tqdm>=4.57.0 in /home/anhvth/miniconda3/lib/python3.9/site-packages (from pytorch_lightning->lit-classifier==0.0.2) (4.63.0)\n",
      "Requirement already satisfied: protobuf<=3.20.1 in /home/anhvth/miniconda3/lib/python3.9/site-packages (from pytorch_lightning->lit-classifier==0.0.2) (3.19.4)\n",
      "Requirement already satisfied: torch>=1.8.* in /home/anhvth/miniconda3/lib/python3.9/site-packages (from pytorch_lightning->lit-classifier==0.0.2) (1.12.0)\n",
      "Requirement already satisfied: torchmetrics>=0.4.1 in /home/anhvth/miniconda3/lib/python3.9/site-packages (from pytorch_lightning->lit-classifier==0.0.2) (0.9.3)\n",
      "Requirement already satisfied: fsspec[http]!=2021.06.0,>=2021.05.0 in /home/anhvth/miniconda3/lib/python3.9/site-packages (from pytorch_lightning->lit-classifier==0.0.2) (2022.7.1)\n",
      "Requirement already satisfied: tensorboard>=2.2.0 in /home/anhvth/miniconda3/lib/python3.9/site-packages (from pytorch_lightning->lit-classifier==0.0.2) (2.9.1)\n",
      "Requirement already satisfied: requests in /home/anhvth/miniconda3/lib/python3.9/site-packages (from fsspec[http]!=2021.06.0,>=2021.05.0->pytorch_lightning->lit-classifier==0.0.2) (2.27.1)\n",
      "Requirement already satisfied: aiohttp in /home/anhvth/miniconda3/lib/python3.9/site-packages (from fsspec[http]!=2021.06.0,>=2021.05.0->pytorch_lightning->lit-classifier==0.0.2) (3.8.1)\n",
      "Requirement already satisfied: setuptools>=41.0.0 in /home/anhvth/miniconda3/lib/python3.9/site-packages (from tensorboard>=2.2.0->pytorch_lightning->lit-classifier==0.0.2) (61.2.0)\n",
      "Requirement already satisfied: google-auth-oauthlib<0.5,>=0.4.1 in /home/anhvth/miniconda3/lib/python3.9/site-packages (from tensorboard>=2.2.0->pytorch_lightning->lit-classifier==0.0.2) (0.4.6)\n",
      "Requirement already satisfied: tensorboard-plugin-wit>=1.6.0 in /home/anhvth/miniconda3/lib/python3.9/site-packages (from tensorboard>=2.2.0->pytorch_lightning->lit-classifier==0.0.2) (1.8.1)\n",
      "Requirement already satisfied: wheel>=0.26 in /home/anhvth/miniconda3/lib/python3.9/site-packages (from tensorboard>=2.2.0->pytorch_lightning->lit-classifier==0.0.2) (0.37.1)\n",
      "Requirement already satisfied: absl-py>=0.4 in /home/anhvth/miniconda3/lib/python3.9/site-packages (from tensorboard>=2.2.0->pytorch_lightning->lit-classifier==0.0.2) (1.2.0)\n",
      "Requirement already satisfied: tensorboard-data-server<0.7.0,>=0.6.0 in /home/anhvth/miniconda3/lib/python3.9/site-packages (from tensorboard>=2.2.0->pytorch_lightning->lit-classifier==0.0.2) (0.6.1)\n",
      "Requirement already satisfied: google-auth<3,>=1.6.3 in /home/anhvth/miniconda3/lib/python3.9/site-packages (from tensorboard>=2.2.0->pytorch_lightning->lit-classifier==0.0.2) (2.9.1)\n",
      "Requirement already satisfied: markdown>=2.6.8 in /home/anhvth/miniconda3/lib/python3.9/site-packages (from tensorboard>=2.2.0->pytorch_lightning->lit-classifier==0.0.2) (3.4.1)\n",
      "Requirement already satisfied: werkzeug>=1.0.1 in /home/anhvth/miniconda3/lib/python3.9/site-packages (from tensorboard>=2.2.0->pytorch_lightning->lit-classifier==0.0.2) (2.2.1)\n",
      "Requirement already satisfied: grpcio>=1.24.3 in /home/anhvth/miniconda3/lib/python3.9/site-packages (from tensorboard>=2.2.0->pytorch_lightning->lit-classifier==0.0.2) (1.48.0)\n",
      "Requirement already satisfied: rsa<5,>=3.1.4 in /home/anhvth/miniconda3/lib/python3.9/site-packages (from google-auth<3,>=1.6.3->tensorboard>=2.2.0->pytorch_lightning->lit-classifier==0.0.2) (4.9)\n",
      "Requirement already satisfied: cachetools<6.0,>=2.0.0 in /home/anhvth/miniconda3/lib/python3.9/site-packages (from google-auth<3,>=1.6.3->tensorboard>=2.2.0->pytorch_lightning->lit-classifier==0.0.2) (5.2.0)\n",
      "Requirement already satisfied: six>=1.9.0 in /home/anhvth/miniconda3/lib/python3.9/site-packages (from google-auth<3,>=1.6.3->tensorboard>=2.2.0->pytorch_lightning->lit-classifier==0.0.2) (1.16.0)\n",
      "Requirement already satisfied: pyasn1-modules>=0.2.1 in /home/anhvth/miniconda3/lib/python3.9/site-packages (from google-auth<3,>=1.6.3->tensorboard>=2.2.0->pytorch_lightning->lit-classifier==0.0.2) (0.2.8)\n",
      "Requirement already satisfied: requests-oauthlib>=0.7.0 in /home/anhvth/miniconda3/lib/python3.9/site-packages (from google-auth-oauthlib<0.5,>=0.4.1->tensorboard>=2.2.0->pytorch_lightning->lit-classifier==0.0.2) (1.3.1)\n",
      "Requirement already satisfied: importlib-metadata>=4.4 in /home/anhvth/miniconda3/lib/python3.9/site-packages (from markdown>=2.6.8->tensorboard>=2.2.0->pytorch_lightning->lit-classifier==0.0.2) (4.12.0)\n",
      "Requirement already satisfied: zipp>=0.5 in /home/anhvth/miniconda3/lib/python3.9/site-packages (from importlib-metadata>=4.4->markdown>=2.6.8->tensorboard>=2.2.0->pytorch_lightning->lit-classifier==0.0.2) (3.8.1)\n",
      "Requirement already satisfied: pyasn1<0.5.0,>=0.4.6 in /home/anhvth/miniconda3/lib/python3.9/site-packages (from pyasn1-modules>=0.2.1->google-auth<3,>=1.6.3->tensorboard>=2.2.0->pytorch_lightning->lit-classifier==0.0.2) (0.4.8)\n",
      "Requirement already satisfied: certifi>=2017.4.17 in /home/anhvth/miniconda3/lib/python3.9/site-packages (from requests->fsspec[http]!=2021.06.0,>=2021.05.0->pytorch_lightning->lit-classifier==0.0.2) (2022.6.15)\n",
      "Requirement already satisfied: urllib3<1.27,>=1.21.1 in /home/anhvth/miniconda3/lib/python3.9/site-packages (from requests->fsspec[http]!=2021.06.0,>=2021.05.0->pytorch_lightning->lit-classifier==0.0.2) (1.26.8)\n",
      "Requirement already satisfied: charset-normalizer~=2.0.0 in /home/anhvth/miniconda3/lib/python3.9/site-packages (from requests->fsspec[http]!=2021.06.0,>=2021.05.0->pytorch_lightning->lit-classifier==0.0.2) (2.0.4)\n",
      "Requirement already satisfied: idna<4,>=2.5 in /home/anhvth/miniconda3/lib/python3.9/site-packages (from requests->fsspec[http]!=2021.06.0,>=2021.05.0->pytorch_lightning->lit-classifier==0.0.2) (3.3)\n",
      "Requirement already satisfied: oauthlib>=3.0.0 in /home/anhvth/miniconda3/lib/python3.9/site-packages (from requests-oauthlib>=0.7.0->google-auth-oauthlib<0.5,>=0.4.1->tensorboard>=2.2.0->pytorch_lightning->lit-classifier==0.0.2) (3.2.0)\n",
      "Requirement already satisfied: MarkupSafe>=2.1.1 in /home/anhvth/miniconda3/lib/python3.9/site-packages (from werkzeug>=1.0.1->tensorboard>=2.2.0->pytorch_lightning->lit-classifier==0.0.2) (2.1.1)\n",
      "Requirement already satisfied: attrs>=17.3.0 in /home/anhvth/miniconda3/lib/python3.9/site-packages (from aiohttp->fsspec[http]!=2021.06.0,>=2021.05.0->pytorch_lightning->lit-classifier==0.0.2) (22.1.0)\n",
      "Requirement already satisfied: aiosignal>=1.1.2 in /home/anhvth/miniconda3/lib/python3.9/site-packages (from aiohttp->fsspec[http]!=2021.06.0,>=2021.05.0->pytorch_lightning->lit-classifier==0.0.2) (1.2.0)\n",
      "Requirement already satisfied: multidict<7.0,>=4.5 in /home/anhvth/miniconda3/lib/python3.9/site-packages (from aiohttp->fsspec[http]!=2021.06.0,>=2021.05.0->pytorch_lightning->lit-classifier==0.0.2) (6.0.2)\n",
      "Requirement already satisfied: frozenlist>=1.1.1 in /home/anhvth/miniconda3/lib/python3.9/site-packages (from aiohttp->fsspec[http]!=2021.06.0,>=2021.05.0->pytorch_lightning->lit-classifier==0.0.2) (1.3.0)\n",
      "Requirement already satisfied: async-timeout<5.0,>=4.0.0a3 in /home/anhvth/miniconda3/lib/python3.9/site-packages (from aiohttp->fsspec[http]!=2021.06.0,>=2021.05.0->pytorch_lightning->lit-classifier==0.0.2) (4.0.2)\n",
      "Requirement already satisfied: yarl<2.0,>=1.0 in /home/anhvth/miniconda3/lib/python3.9/site-packages (from aiohttp->fsspec[http]!=2021.06.0,>=2021.05.0->pytorch_lightning->lit-classifier==0.0.2) (1.7.2)\n",
      "Requirement already satisfied: torchvision in /home/anhvth/miniconda3/lib/python3.9/site-packages (from timm->lit-classifier==0.0.2) (0.13.0)\n",
      "Installing collected packages: lit-classifier\n",
      "  Attempting uninstall: lit-classifier\n",
      "    Found existing installation: lit-classifier 0.0.2\n",
      "    Uninstalling lit-classifier-0.0.2:\n",
      "      Successfully uninstalled lit-classifier-0.0.2\n",
      "  Running setup.py develop for lit-classifier\n",
      "Successfully installed lit-classifier-0.0.2\n"
     ]
    }
   ],
   "source": [
    "#| hide\n",
    "from nbdev import nbdev_export\n",
    "nbdev_export()\n",
    "!pip install -e ../"
   ]
  },
  {
   "cell_type": "code",
   "execution_count": null,
   "id": "7aa2ceb1-4ff8-4806-ac09-268d3f1cd217",
   "metadata": {},
   "outputs": [],
   "source": []
  }
 ],
 "metadata": {
  "kernelspec": {
   "display_name": "Python 3",
   "language": "python",
   "name": "python3"
  }
 },
 "nbformat": 4,
 "nbformat_minor": 5
}
