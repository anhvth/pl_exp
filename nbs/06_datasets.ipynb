{
 "cells": [
  {
   "cell_type": "code",
   "execution_count": null,
   "id": "01899bc9",
   "metadata": {},
   "outputs": [],
   "source": [
    "#| default_exp datasets"
   ]
  },
  {
   "cell_type": "markdown",
   "id": "9d48a404",
   "metadata": {},
   "source": [
    "# VideoFrameDataset"
   ]
  },
  {
   "cell_type": "code",
   "execution_count": null,
   "id": "61866021",
   "metadata": {},
   "outputs": [],
   "source": [
    "#| export\n",
    "import torch.utils.data as td\n",
    "from avcv.all import *\n",
    "from fastcore.all import *\n",
    "\n",
    "class VideoFrameDataset(td.Dataset):\n",
    "    def __init__(self, path_to_video, img_preproc=None, out_dir=None, img_size=(416, 416), fps=10, ext='png'):\n",
    "        if out_dir is None:\n",
    "            vname = get_name(path_to_video)\n",
    "            out_dir = f'/tmp/ple/VideoFrameDataset/extracted_video_for_inference/{vname}_fps_{fps}'\n",
    "#         self.out_dir = out_dir\n",
    "        store_attr('img_preproc, out_dir, img_size, fps, ext')\n",
    "    \n",
    "        self.video = mmcv.VideoReader(path_to_video)\n",
    "        self.paths = self.get_images(path_to_video)\n",
    "        \n",
    "    def __len__(self):\n",
    "        return len(self.paths)\n",
    "    \n",
    "    def __getitem__(self, idx):\n",
    "        img = mmcv.imread(self.paths[idx])\n",
    "        if self.img_preproc is not None:\n",
    "            x = self.img_preproc(img)\n",
    "            return dict(x=x, img=img)\n",
    "        return dict(img=img)\n",
    "    \n",
    "    def get_images(self, path_to_video):\n",
    "        if not self.check_if_extracted(path_to_video):\n",
    "            _im = mmcv.imrescale(self.video[0], self.img_size)\n",
    "            im_h, im_w = _im.shape[:2]\n",
    "            mmcv.mkdir_or_exist(self.out_dir)\n",
    "            cmd = f\"ffmpeg -n  -i {path_to_video} -s {im_w}x{im_h} -vf fps={self.fps} {self.out_dir}/%06d.{self.ext}\"\n",
    "            print(cmd)\n",
    "            os.system(cmd)\n",
    "#         else:\n",
    "#             print('Skip extracting using ffmpeg since files are already extracted')\n",
    "        paths = glob(f'{self.out_dir}/*.{self.ext}')\n",
    "        return list(sorted(paths))\n",
    "    \n",
    "    def check_if_extracted(self, path_to_video):\n",
    "        exist_num = len(glob(f'{self.out_dir}/*.{self.ext}'))\n",
    "        expected_num = len(self.video)*self.fps/self.video.fps\n",
    "        exist_rate = exist_num/expected_num\n",
    "        if exist_rate<0.9:\n",
    "            print(f'{exist_rate=}')\n",
    "        return exist_rate>0.9\n",
    "\n"
   ]
  },
  {
   "cell_type": "code",
   "execution_count": null,
   "id": "769b2aef",
   "metadata": {},
   "outputs": [
    {
     "name": "stdout",
     "output_type": "stream",
     "text": [
      "exist_rate=0.4711927335410727\n",
      "ffmpeg -n  -i /tmp/toanbd1_eating_smoking_phoneusage_distraction_drowsiness.mp4 -s 416x234 -vf fps=10 /tmp/ple/VideoFrameDataset/extracted_video_for_inference/toanbd1_eating_smoking_phoneusage_distraction_drowsiness_fps_10/%06d.png\n"
     ]
    },
    {
     "name": "stderr",
     "output_type": "stream",
     "text": [
      "ffmpeg version 4.3 Copyright (c) 2000-2020 the FFmpeg developers\n",
      "  built with gcc 7.3.0 (crosstool-NG 1.23.0.449-a04d0)\n",
      "  configuration: --prefix=/home/anhvth8/.conda/envs/py38 --cc=/opt/conda/conda-bld/ffmpeg_1597178665428/_build_env/bin/x86_64-conda_cos6-linux-gnu-cc --disable-doc --disable-openssl --enable-avresample --enable-gnutls --enable-hardcoded-tables --enable-libfreetype --enable-libopenh264 --enable-pic --enable-pthreads --enable-shared --disable-static --enable-version3 --enable-zlib --enable-libmp3lame\n",
      "  libavutil      56. 51.100 / 56. 51.100\n",
      "  libavcodec     58. 91.100 / 58. 91.100\n",
      "  libavformat    58. 45.100 / 58. 45.100\n",
      "  libavdevice    58. 10.100 / 58. 10.100\n",
      "  libavfilter     7. 85.100 /  7. 85.100\n",
      "  libavresample   4.  0.  0 /  4.  0.  0\n",
      "  libswscale      5.  7.100 /  5.  7.100\n",
      "  libswresample   3.  7.100 /  3.  7.100\n",
      "Input #0, mov,mp4,m4a,3gp,3g2,mj2, from '/tmp/toanbd1_eating_smoking_phoneusage_distraction_drowsiness.mp4':\n",
      "  Metadata:\n",
      "    major_brand     : isom\n",
      "    minor_version   : 512\n",
      "    compatible_brands: isomiso2avc1mp41\n",
      "    encoder         : Lavf57.83.100\n",
      "  Duration: 00:08:22.77, start: 0.000000, bitrate: 821 kb/s\n",
      "    Stream #0:0(eng): Video: h264 (High) (avc1 / 0x31637661), yuv420p, 1280x720 [SAR 1:1 DAR 16:9], 743 kb/s, 30 fps, 30 tbr, 15360 tbn, 60 tbc (default)\n",
      "    Metadata:\n",
      "      handler_name    : VideoHandler\n",
      "    Stream #0:1(eng): Audio: aac (LC) (mp4a / 0x6134706D), 44100 Hz, mono, fltp, 69 kb/s (default)\n",
      "    Metadata:\n",
      "      handler_name    : SoundHandler\n",
      "Stream mapping:\n",
      "  Stream #0:0 -> #0:0 (h264 (native) -> png (native))\n",
      "Press [q] to stop, [?] for help\n",
      "Output #0, image2, to '/tmp/ple/VideoFrameDataset/extracted_video_for_inference/toanbd1_eating_smoking_phoneusage_distraction_drowsiness_fps_10/%06d.png':\n",
      "  Metadata:\n",
      "    major_brand     : isom\n",
      "    minor_version   : 512\n",
      "    compatible_brands: isomiso2avc1mp41\n",
      "    encoder         : Lavf58.45.100\n",
      "    Stream #0:0(eng): Video: png, rgb24, 416x234 [SAR 1:1 DAR 16:9], q=2-31, 200 kb/s, 10 fps, 10 tbn, 10 tbc (default)\n",
      "    Metadata:\n",
      "      handler_name    : VideoHandler\n",
      "      encoder         : Lavc58.91.100 png\n",
      "frame= 1044 fps=315 q=-0.0 Lsize=N/A time=00:01:44.40 bitrate=N/A speed=31.5x    \n",
      "video:75113kB audio:0kB subtitle:0kB other streams:0kB global headers:0kB muxing overhead: unknown\n",
      "Exiting normally, received signal 2.\n"
     ]
    }
   ],
   "source": [
    "#| hide\n",
    "video = VideoFrameDataset('/tmp/toanbd1_eating_smoking_phoneusage_distraction_drowsiness.mp4')"
   ]
  },
  {
   "cell_type": "code",
   "execution_count": null,
   "id": "b61a7a8e",
   "metadata": {},
   "outputs": [],
   "source": [
    "!nbdev_export"
   ]
  },
  {
   "cell_type": "code",
   "execution_count": null,
   "id": "e6846799",
   "metadata": {},
   "outputs": [],
   "source": [
    "from ple.datasets import VideoFrameDataset"
   ]
  },
  {
   "cell_type": "code",
   "execution_count": null,
   "id": "d5390792",
   "metadata": {},
   "outputs": [],
   "source": []
  },
  {
   "cell_type": "code",
   "execution_count": null,
   "id": "4fd43858",
   "metadata": {},
   "outputs": [],
   "source": []
  }
 ],
 "metadata": {
  "kernelspec": {
   "display_name": "Python 3 (ipykernel)",
   "language": "python",
   "name": "python3"
  },
  "language_info": {
   "codemirror_mode": {
    "name": "ipython",
    "version": 3
   },
   "file_extension": ".py",
   "mimetype": "text/x-python",
   "name": "python",
   "nbconvert_exporter": "python",
   "pygments_lexer": "ipython3",
   "version": "3.8.15"
  }
 },
 "nbformat": 4,
 "nbformat_minor": 5
}
