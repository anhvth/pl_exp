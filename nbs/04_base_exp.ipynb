{
 "cells": [
  {
   "cell_type": "code",
   "execution_count": null,
   "id": "9d7e5be9-9401-40e3-9cdd-7212e169b971",
   "metadata": {},
   "outputs": [],
   "source": [
    "# | default_exp base_exp\n"
   ]
  },
  {
   "cell_type": "markdown",
   "id": "74423bcc-7f8c-41b7-8aad-230996e7313d",
   "metadata": {},
   "source": [
    "# Base_exp\n",
    "| Base_exp API"
   ]
  },
  {
   "cell_type": "code",
   "execution_count": 12,
   "id": "3e3b3acb-65c4-4ee2-a608-ea9e4a7f5383",
   "metadata": {},
   "outputs": [],
   "source": [
    "# | export\n",
    "\n",
    "import ast\n",
    "import pprint\n",
    "from abc import ABCMeta, abstractmethod\n",
    "from typing import Dict\n",
    "from tabulate import tabulate\n",
    "\n",
    "import torch\n",
    "from torch.nn import Module\n",
    "import pytorch_lightning as pl\n",
    "from torch.optim.lr_scheduler import _LRScheduler\n",
    "from ple.all import get_trainer\n",
    "import os.path as osp\n",
    "\n",
    "class BaseExp(metaclass=ABCMeta):\n",
    "    \"\"\"Basic class for any experiment.\"\"\"\n",
    "\n",
    "    def __init__(self):\n",
    "        self.accelerator = 'gpu'\n",
    "        \n",
    "    @abstractmethod\n",
    "    def get_model(self) -> Module:\n",
    "        pass\n",
    "\n",
    "    @abstractmethod\n",
    "    def get_data_loader(\n",
    "        self,\n",
    "    ) -> pl.LightningDataModule:\n",
    "        pass\n",
    "\n",
    "    @abstractmethod\n",
    "    def get_optimizer() -> torch.optim.Optimizer:\n",
    "        pass\n",
    "\n",
    "    @abstractmethod\n",
    "    def get_lr_scheduler(\n",
    "        self, lr: float, iters_per_epoch: int, **kwargs\n",
    "    ) -> _LRScheduler:\n",
    "        pass\n",
    "\n",
    "    def __repr__(self):\n",
    "        table_header = [\"keys\", \"values\"]\n",
    "        exp_table = [\n",
    "            (str(k), pprint.pformat(v))\n",
    "            for k, v in vars(self).items()\n",
    "            if not k.startswith(\"_\")\n",
    "        ]\n",
    "        return tabulate(exp_table, headers=table_header, tablefmt=\"fancy_grid\")\n",
    "    def merge(self, cfg_list):\n",
    "        assert len(cfg_list) % 2 == 0\n",
    "        for k, v in zip(cfg_list[0::2], cfg_list[1::2]):\n",
    "            # only update value with same key\n",
    "            if hasattr(self, k):\n",
    "                src_value = getattr(self, k)\n",
    "                src_type = type(src_value)\n",
    "                if src_value is not None and src_type != type(v):\n",
    "                    try:\n",
    "                        v = src_type(v)\n",
    "                    except Exception:\n",
    "                        v = ast.literal_eval(v)\n",
    "                print(f'Set {k}={v}')\n",
    "                setattr(self, k, v)\n",
    "        \n",
    "    def get_trainer(self, devices:int):\n",
    "        return get_trainer(self.exp_name,\n",
    "                               devices,\n",
    "                              max_epochs=self.max_epochs, \n",
    "                              trainer_kwargs=dict(\n",
    "                                  accelerator=self.accelerator,\n",
    "                              )\n",
    "                            )"
   ]
  },
  {
   "cell_type": "code",
   "execution_count": 13,
   "id": "95bc3db0-5289-4d06-8478-b2fc401a6df9",
   "metadata": {},
   "outputs": [],
   "source": [
    "#| hide\n",
    "from nbdev import nbdev_export\n",
    "nbdev_export()"
   ]
  },
  {
   "cell_type": "code",
   "execution_count": null,
   "id": "8548048b-e5fb-4f4f-b2d2-b3bed026aab7",
   "metadata": {},
   "outputs": [],
   "source": []
  },
  {
   "cell_type": "code",
   "execution_count": null,
   "id": "66c1c24d-c0ca-4374-ac5d-c0acd74ea956",
   "metadata": {},
   "outputs": [],
   "source": []
  }
 ],
 "metadata": {
  "kernelspec": {
   "display_name": "Python 3 (ipykernel)",
   "language": "python",
   "name": "python3"
  },
  "language_info": {
   "codemirror_mode": {
    "name": "ipython",
    "version": 3
   },
   "file_extension": ".py",
   "mimetype": "text/x-python",
   "name": "python",
   "nbconvert_exporter": "python",
   "pygments_lexer": "ipython3",
   "version": "3.8.11"
  }
 },
 "nbformat": 4,
 "nbformat_minor": 5
}
